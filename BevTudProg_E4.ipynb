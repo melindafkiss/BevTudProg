{
 "cells": [
  {
   "cell_type": "markdown",
   "id": "23a644f0",
   "metadata": {
    "slideshow": {
     "slide_type": "slide"
    }
   },
   "source": [
    "# Bevezetés a tudományos programozásba\n",
    "\n",
    "## 4. Előadás\n",
    "\n",
    "\n",
    "### 2025. szeptember 30."
   ]
  },
  {
   "cell_type": "markdown",
   "id": "d15ad0ff",
   "metadata": {
    "slideshow": {
     "slide_type": "subslide"
    }
   },
   "source": [
    "# A Python beépített adatszerkezetei II. (Python collections - part II.) "
   ]
  },
  {
   "cell_type": "markdown",
   "id": "d8b9b083",
   "metadata": {
    "slideshow": {
     "slide_type": "subslide"
    }
   },
   "source": [
    "## Lista-összeállítás vagy listaképzés (List comprehension)"
   ]
  },
  {
   "cell_type": "code",
   "execution_count": 1,
   "id": "49a08872",
   "metadata": {
    "slideshow": {
     "slide_type": "fragment"
    }
   },
   "outputs": [],
   "source": [
    "xs = [1, 1, 2, 3, 5, 8, 13, 21, 34, 55]"
   ]
  },
  {
   "cell_type": "code",
   "execution_count": 2,
   "id": "3de1488f",
   "metadata": {
    "slideshow": {
     "slide_type": "fragment"
    }
   },
   "outputs": [
    {
     "name": "stdout",
     "output_type": "stream",
     "text": [
      "[2, 2, 4, 6, 10, 16, 26, 42, 68, 110]\n"
     ]
    }
   ],
   "source": [
    "# [a_1, a_2, ..., a_n] -> [f(a_1), f(a_2), ..., f(a_n)]\n",
    "\n",
    "lst = []\n",
    "for x in xs:\n",
    "    lst.append(2*x)\n",
    "    \n",
    "print(lst)"
   ]
  },
  {
   "cell_type": "code",
   "execution_count": 3,
   "id": "4ee2ffb8",
   "metadata": {
    "slideshow": {
     "slide_type": "fragment"
    }
   },
   "outputs": [
    {
     "name": "stdout",
     "output_type": "stream",
     "text": [
      "[2, 2, 4, 6, 10, 16, 26, 42, 68, 110]\n"
     ]
    }
   ],
   "source": [
    "lst = [2*x for x in xs]\n",
    "\n",
    "print(lst)"
   ]
  },
  {
   "cell_type": "code",
   "execution_count": 4,
   "id": "7ea692f4",
   "metadata": {
    "slideshow": {
     "slide_type": "subslide"
    }
   },
   "outputs": [
    {
     "name": "stdout",
     "output_type": "stream",
     "text": [
      "[1, 4, 17]\n"
     ]
    }
   ],
   "source": [
    "# [a_1, a_2, ..., a_n] -> [f(a_k1), f(a_k2), ...]\n",
    "\n",
    "lst = []\n",
    "for x in xs:\n",
    "    if x % 2 == 0:\n",
    "        lst.append(x // 2)\n",
    "\n",
    "print(lst)"
   ]
  },
  {
   "cell_type": "code",
   "execution_count": 5,
   "id": "0c2ae819",
   "metadata": {
    "slideshow": {
     "slide_type": "fragment"
    }
   },
   "outputs": [
    {
     "name": "stdout",
     "output_type": "stream",
     "text": [
      "[1, 4, 17]\n"
     ]
    }
   ],
   "source": [
    "lst = [x // 2 for x in xs if x % 2 == 0]\n",
    "\n",
    "print(lst)"
   ]
  },
  {
   "cell_type": "code",
   "execution_count": 6,
   "id": "6ff98008",
   "metadata": {
    "slideshow": {
     "slide_type": "subslide"
    }
   },
   "outputs": [
    {
     "name": "stdout",
     "output_type": "stream",
     "text": [
      "[3, 3, 27, 69, 111]\n"
     ]
    }
   ],
   "source": [
    "lst = []\n",
    "for x in xs:\n",
    "    y = 2*x + 1\n",
    "    if y % 3 == 0:\n",
    "        lst.append(y)\n",
    "                \n",
    "print(lst)"
   ]
  },
  {
   "cell_type": "code",
   "execution_count": 7,
   "id": "9736794f",
   "metadata": {
    "slideshow": {
     "slide_type": "fragment"
    }
   },
   "outputs": [
    {
     "name": "stdout",
     "output_type": "stream",
     "text": [
      "[3, 3, 27, 69, 111]\n"
     ]
    }
   ],
   "source": [
    "lst = [2*x + 1 for x in xs if (2*x + 1) % 3 == 0]\n",
    "\n",
    "print(lst)"
   ]
  },
  {
   "cell_type": "markdown",
   "id": "5cdbf096",
   "metadata": {
    "slideshow": {
     "slide_type": "slide"
    }
   },
   "source": [
    "### Rozmár operátor"
   ]
  },
  {
   "cell_type": "code",
   "execution_count": 8,
   "id": "30cfee55",
   "metadata": {
    "slideshow": {
     "slide_type": "subslide"
    }
   },
   "outputs": [
    {
     "name": "stdout",
     "output_type": "stream",
     "text": [
      "[3, 3, 27, 69, 111]\n"
     ]
    }
   ],
   "source": [
    "# Értékadás ÉS feltétel-ellenőrzés egy lépésben: \n",
    "# a rozmár-operátor :=\n",
    "\n",
    "lst = []\n",
    "for x in xs:\n",
    "    if (y := 2*x + 1) % 3 == 0:\n",
    "        lst.append(y)\n",
    "                \n",
    "print(lst)"
   ]
  },
  {
   "cell_type": "code",
   "execution_count": 9,
   "id": "d6e17e70",
   "metadata": {
    "slideshow": {
     "slide_type": "fragment"
    }
   },
   "outputs": [
    {
     "name": "stdout",
     "output_type": "stream",
     "text": [
      "[3, 3, 27, 69, 111]\n"
     ]
    }
   ],
   "source": [
    "lst = [y for x in xs if (y := 2*x + 1) % 3 == 0]\n",
    "\n",
    "print(lst)"
   ]
  },
  {
   "cell_type": "code",
   "execution_count": 10,
   "id": "dec4ee84",
   "metadata": {
    "slideshow": {
     "slide_type": "subslide"
    }
   },
   "outputs": [
    {
     "name": "stdout",
     "output_type": "stream",
     "text": [
      "True\n"
     ]
    },
    {
     "data": {
      "text/plain": [
       "[1, 2, 3]"
      ]
     },
     "execution_count": 10,
     "metadata": {},
     "output_type": "execute_result"
    }
   ],
   "source": [
    "l=[1,2]\n",
    "l2 = l\n",
    "#l2 = l.copy() # a copy() egy másolatot készít.\n",
    "print(l is l2)\n",
    "l.append(3)\n",
    "l2"
   ]
  },
  {
   "cell_type": "markdown",
   "id": "d3c1ccd2",
   "metadata": {
    "slideshow": {
     "slide_type": "slide"
    }
   },
   "source": [
    "# Rendezett $n$-esek (Tuple)"
   ]
  },
  {
   "cell_type": "markdown",
   "id": "da347bdb",
   "metadata": {
    "slideshow": {
     "slide_type": "subslide"
    }
   },
   "source": [
    "A `tuple` típussal már találkoztunk, ha egy függvénynek több visszatérési értéke van, akkor azokat vesszővel elválasztva adjuk meg, ami egy tuple: különböző típusú elemek adott sorrendben, vesszővel elválasztva, esetleg zárójelek között."
   ]
  },
  {
   "cell_type": "code",
   "execution_count": 11,
   "id": "3e866c64",
   "metadata": {
    "slideshow": {
     "slide_type": "fragment"
    }
   },
   "outputs": [
    {
     "name": "stdout",
     "output_type": "stream",
     "text": [
      "<class 'tuple'> 0\n"
     ]
    }
   ],
   "source": [
    "t = ()  # empty tuple\n",
    "print(type(t), len(t))"
   ]
  },
  {
   "cell_type": "code",
   "execution_count": 12,
   "id": "4c09444a",
   "metadata": {
    "slideshow": {
     "slide_type": "subslide"
    }
   },
   "outputs": [
    {
     "name": "stdout",
     "output_type": "stream",
     "text": [
      "(2, 3)\n",
      "2\n",
      "3\n"
     ]
    }
   ],
   "source": [
    "def integer_division(n, k):\n",
    "    m = n // k\n",
    "    r = n % k\n",
    "    return m, r\n",
    "\n",
    "result = integer_division(11, 4)\n",
    "a, b = integer_division(11, 4)\n",
    "\n",
    "print(result)\n",
    "print(a)\n",
    "print(b)"
   ]
  },
  {
   "cell_type": "code",
   "execution_count": 13,
   "id": "4bbbc375",
   "metadata": {
    "slideshow": {
     "slide_type": "subslide"
    }
   },
   "outputs": [
    {
     "name": "stdout",
     "output_type": "stream",
     "text": [
      "(1, 'a', <class 'int'>)\n",
      "<class 'tuple'>\n"
     ]
    }
   ],
   "source": [
    "t = 1, \"a\", int\n",
    "\n",
    "print(t)\n",
    "print(type(t))"
   ]
  },
  {
   "cell_type": "code",
   "execution_count": 14,
   "id": "e2c4246a",
   "metadata": {
    "slideshow": {
     "slide_type": "fragment"
    }
   },
   "outputs": [
    {
     "name": "stdout",
     "output_type": "stream",
     "text": [
      "(1, 'a', <class 'int'>)\n"
     ]
    }
   ],
   "source": [
    "# Az elemeket felsorolva zárójelben is megadhatjuk\n",
    "\n",
    "t = (1, \"a\", int)\n",
    "\n",
    "print(t)"
   ]
  },
  {
   "cell_type": "code",
   "execution_count": 15,
   "id": "e1a21d45",
   "metadata": {
    "slideshow": {
     "slide_type": "fragment"
    }
   },
   "outputs": [
    {
     "name": "stdout",
     "output_type": "stream",
     "text": [
      "1\n",
      "a\n",
      "<class 'int'>\n"
     ]
    }
   ],
   "source": [
    "k, string, conversion = t\n",
    "\n",
    "print(k)\n",
    "print(string)\n",
    "print(conversion)"
   ]
  },
  {
   "cell_type": "code",
   "execution_count": 16,
   "id": "47a4a670",
   "metadata": {
    "slideshow": {
     "slide_type": "subslide"
    }
   },
   "outputs": [
    {
     "name": "stdout",
     "output_type": "stream",
     "text": [
      "<class 'tuple'>\n",
      "<class 'int'>\n"
     ]
    }
   ],
   "source": [
    "one_item = (5,)     \n",
    "not_a_tuple = (5)\n",
    "\n",
    "print(type(one_item))\n",
    "print(type(not_a_tuple))"
   ]
  },
  {
   "cell_type": "markdown",
   "id": "119b867a",
   "metadata": {
    "slideshow": {
     "slide_type": "subslide"
    }
   },
   "source": [
    "A tuple-nek két fő felhasználása van. Egyrészt függvény visszatérési értékként általában rövid, és tipikusan különböző típusú elemeket tartalmaz. A másik felhasználási mód, hogy olyan, mint egy lista, azzal a különbséggel, hogy a tuple immutable, azaz nem lehet hozzávenni új elemeket, nem lehet törölni, nem lehet megváltoztatni."
   ]
  },
  {
   "cell_type": "code",
   "execution_count": 17,
   "id": "4c2e3fe8",
   "metadata": {
    "slideshow": {
     "slide_type": "fragment"
    }
   },
   "outputs": [
    {
     "name": "stdout",
     "output_type": "stream",
     "text": [
      "(1, 2, 3, 4, 5)\n"
     ]
    }
   ],
   "source": [
    "lst = [1, 2, 3, 4, 5]\n",
    "\n",
    "t = tuple(lst)\n",
    "\n",
    "print(t)"
   ]
  },
  {
   "cell_type": "markdown",
   "id": "5cec7894",
   "metadata": {
    "slideshow": {
     "slide_type": "subslide"
    }
   },
   "source": [
    "Ugyanúgy lehet indexelni őket, mint listákat és ugyanúgy lehet végigiterálni rajtuk, mint egy listán. A tuple általában kevesebb memóriát foglal, mint az ugyanazon elemeket tartalmazó lista, de a fő előnye, hogy a kód nem tudja véletlenül módosítani őket, mint a listát.\n",
    "\n",
    "Ha azonban a tuple tartalmaz mutable elemet, az azért mégiscsak módosítható lesz."
   ]
  },
  {
   "cell_type": "code",
   "execution_count": 18,
   "id": "f7c8cea2",
   "metadata": {
    "slideshow": {
     "slide_type": "fragment"
    }
   },
   "outputs": [
    {
     "ename": "TypeError",
     "evalue": "'tuple' object does not support item assignment",
     "output_type": "error",
     "traceback": [
      "\u001b[0;31m---------------------------------------------------------------------------\u001b[0m",
      "\u001b[0;31mTypeError\u001b[0m                                 Traceback (most recent call last)",
      "Cell \u001b[0;32mIn[18], line 3\u001b[0m\n\u001b[1;32m      1\u001b[0m t \u001b[38;5;241m=\u001b[39m (\u001b[38;5;241m1\u001b[39m, \u001b[38;5;241m2\u001b[39m, \u001b[38;5;241m3\u001b[39m)\n\u001b[0;32m----> 3\u001b[0m \u001b[43mt\u001b[49m\u001b[43m[\u001b[49m\u001b[38;5;241;43m0\u001b[39;49m\u001b[43m]\u001b[49m \u001b[38;5;241m=\u001b[39m \u001b[38;5;241m10\u001b[39m\n",
      "\u001b[0;31mTypeError\u001b[0m: 'tuple' object does not support item assignment"
     ]
    }
   ],
   "source": [
    "t = (1, 2, 3)\n",
    "\n",
    "t[0] = 10"
   ]
  },
  {
   "cell_type": "code",
   "execution_count": 19,
   "id": "a4230880",
   "metadata": {
    "slideshow": {
     "slide_type": "subslide"
    }
   },
   "outputs": [
    {
     "data": {
      "text/plain": [
       "([1, 2, 3], 'hello')"
      ]
     },
     "execution_count": 19,
     "metadata": {},
     "output_type": "execute_result"
    }
   ],
   "source": [
    "t = ([1, 2], \"hello\")\n",
    "\n",
    "t[0].append(3)\n",
    "\n",
    "t"
   ]
  },
  {
   "cell_type": "code",
   "execution_count": 20,
   "id": "29e244cc",
   "metadata": {
    "slideshow": {
     "slide_type": "subslide"
    }
   },
   "outputs": [
    {
     "name": "stdout",
     "output_type": "stream",
     "text": [
      "[1, 2, 3]\n",
      "hello\n"
     ]
    }
   ],
   "source": [
    "for e in t:\n",
    "    print(e)"
   ]
  },
  {
   "cell_type": "markdown",
   "id": "8a66db58",
   "metadata": {
    "slideshow": {
     "slide_type": "subslide"
    }
   },
   "source": [
    "\n",
    "Minden lista/sorozat szerű típus támogatja a következő függvényeket\n",
    "\n",
    "| operation | behaviour |\n",
    "| :----- | :----- |\n",
    "| `x in s` | \tTrue ha s egyenlő x valamelyik elemével, különben False|\n",
    "| `x not in s` | \tFlase ha s egyenlő x valamelyik elemével, különben True |\n",
    "| `s + t` | \ts és t összefűzése |\n",
    "| `s * n or n * s` | \tekvivalens azzal, hogy összeadjuk s-nek n darab példányát |\n",
    "| `s[i]` | \ts-nek az i. eleme, 0-tól kezdve |\n",
    "| `s[i:j]` | \t s-nek az i-től j-ig tartó szelete |\n",
    "| `s[i:j:k]` | \t s-nek az i-től j-ig tartó szelete k lépésközzel |\n",
    "| `len(s)` | \ts hossza |\n",
    "| `min(s)` | \t s legkisebb eleme |\n",
    "| `max(s)` | \t s legnagyobb eleme |\n",
    "| `s.index(x[, i[, j]])` | \ts első előfordulásának indexe x-ben (az i. indextől a j.-ig tartó részen) |\n",
    "| `s.count(x)` | \ts x-beli megjelenéseinek száma |\n"
   ]
  },
  {
   "cell_type": "markdown",
   "id": "241fd740",
   "metadata": {
    "slideshow": {
     "slide_type": "slide"
    }
   },
   "source": [
    "## Szótárak, kulcs-érték párok (Dictionaries)"
   ]
  },
  {
   "cell_type": "markdown",
   "id": "fc041a6d",
   "metadata": {
    "slideshow": {
     "slide_type": "fragment"
    }
   },
   "source": [
    "Gyakran előfordul olyan probléma, hogy különböző dolgokat kell eltárolnunk, amelyek nem valamilyen index alapján azonosíthatók, hanem valamilyen kulcs alapján.\n",
    "\n",
    "Például egy telefonkönyvben nevekhez rendelünk telefonszámot, egy angol-francia szótárban angol szavakhoz a megfelelő francia szót, vagy esetleg szavakat, országokhoz a fővárosaikat, hallgatókhoz a felvett tárgyaikat, írókhoz a könyveiket, stb.\n",
    "\n",
    "(Valójában ez sokkal inkább hasonlít a matematikai függvény fogalomhoz, mint a python függvényei.)"
   ]
  },
  {
   "cell_type": "markdown",
   "id": "73620f70",
   "metadata": {
    "slideshow": {
     "slide_type": "subslide"
    }
   },
   "source": [
    "Országokhoz rendeljük hozzá a fővárosukat.\n",
    "```\n",
    "Hungary -> Budapest\n",
    "France -> Paris\n",
    "Australia -> Canberra\n",
    "Spain -> Madrid\n",
    "```"
   ]
  },
  {
   "cell_type": "markdown",
   "id": "4d639424",
   "metadata": {
    "slideshow": {
     "slide_type": "fragment"
    }
   },
   "source": [
    "Személyekhez rendeljük a hangszereket, amelyeken játszani tudnak.\n",
    "```\n",
    "Anna -> [hegedű, cselló, trombita]\n",
    "Béla -> [tangóharmonika]\n",
    "Gábor -> [dob, okarina]\n",
    "```"
   ]
  },
  {
   "cell_type": "markdown",
   "id": "0d04f3ae",
   "metadata": {
    "slideshow": {
     "slide_type": "slide"
    }
   },
   "source": [
    "Lehet-e az eddig tanult adatszerkezetekkel eltárolni ilyen (kulcs, érték) párokból álló elemeket?"
   ]
  },
  {
   "cell_type": "code",
   "execution_count": 21,
   "id": "66fbd70c",
   "metadata": {
    "slideshow": {
     "slide_type": "fragment"
    }
   },
   "outputs": [
    {
     "data": {
      "text/plain": [
       "[('Hungary', 'Budapest'),\n",
       " ('France', 'Paris'),\n",
       " ('Australia', 'Canberra'),\n",
       " ('Spain', 'Madrid')]"
      ]
     },
     "execution_count": 21,
     "metadata": {},
     "output_type": "execute_result"
    }
   ],
   "source": [
    "capitals = [\n",
    "    (\"Hungary\", \"Budapest\"), \n",
    "    (\"France\", \"Paris\"), \n",
    "    (\"Australia\", \"Canberra\"), \n",
    "    (\"Spain\", \"Madrid\")\n",
    "]\n",
    "\n",
    "capitals"
   ]
  },
  {
   "cell_type": "code",
   "execution_count": 22,
   "id": "6a89a6b0",
   "metadata": {
    "slideshow": {
     "slide_type": "subslide"
    }
   },
   "outputs": [
    {
     "name": "stdout",
     "output_type": "stream",
     "text": [
      "Madrid\n",
      "None\n"
     ]
    }
   ],
   "source": [
    "def capital_of_a_country(capitals, country):\n",
    "    for country_name, capital_name in capitals:\n",
    "        if country_name == country:\n",
    "            return capital_name\n",
    "    \n",
    "    # country is not found\n",
    "    return None    \n",
    "    \n",
    "    \n",
    "print(capital_of_a_country(capitals, \"Spain\"))\n",
    "print(capital_of_a_country(capitals, \"Austria\"))"
   ]
  },
  {
   "cell_type": "markdown",
   "id": "f9333210",
   "metadata": {
    "slideshow": {
     "slide_type": "slide"
    }
   },
   "source": [
    "* Asszociatív lista\n",
    "* Függ a párokból álló lita hosszától, hogy mennyi ideig tart amígy egy adott \"kulcshoz\" megtaláljuk a megfelelő értéket. \n",
    "* Tud lassú lenni amíg megtaláljuk\n"
   ]
  },
  {
   "cell_type": "markdown",
   "id": "519881b9",
   "metadata": {
    "slideshow": {
     "slide_type": "subslide"
    }
   },
   "source": [
    "Olyan adataszerkezetet szeretnénk, ahol \n",
    "\n",
    "* a kulcs alapján történő keresés \n",
    "* kulcs alapján új elem beszúrása\n",
    "* kulcs alapján elem törlése\n",
    "\n",
    "gyors műveletek.\n",
    "\n",
    "Sajnos a (kulcs, érték) párokból álló lista mindhárom műveletre lassú. Azonban szerencsénk van, van egy olyan adatszerkezet, amely átlagosan konstans idő alatt képes mindhárom műveletre és csak nagyon ritkán, a körülmények szerencsétlen együttállása esetén lesz alkalmanként egy-egy ilyen művelet lassú. Emellett a tárhely, amit foglal, szintén nem nagyobb, mint az elemek tárolásával arányos méretű hely."
   ]
  },
  {
   "cell_type": "code",
   "execution_count": 23,
   "id": "c901173e",
   "metadata": {
    "slideshow": {
     "slide_type": "slide"
    }
   },
   "outputs": [
    {
     "data": {
      "text/plain": [
       "{'apple': 12, 'plum': 2, 1: 4}"
      ]
     },
     "execution_count": 23,
     "metadata": {},
     "output_type": "execute_result"
    }
   ],
   "source": [
    "d = {}  # üres szótár, ekvivalens: d = dict()\n",
    "d[\"apple\"] = 12\n",
    "d[\"plum\"] = 2\n",
    "d[1]=4\n",
    "d"
   ]
  },
  {
   "cell_type": "markdown",
   "id": "f5a6446f",
   "metadata": {
    "slideshow": {
     "slide_type": "fragment"
    }
   },
   "source": [
    "másik megadás"
   ]
  },
  {
   "cell_type": "code",
   "execution_count": 24,
   "id": "290f52ce",
   "metadata": {
    "slideshow": {
     "slide_type": "fragment"
    }
   },
   "outputs": [
    {
     "data": {
      "text/plain": [
       "{'apple': 12, 'plum': 2}"
      ]
     },
     "execution_count": 24,
     "metadata": {},
     "output_type": "execute_result"
    }
   ],
   "source": [
    "d = {\"apple\": 12, \"plum\": 2}\n",
    "d"
   ]
  },
  {
   "cell_type": "code",
   "execution_count": 25,
   "id": "08b5b47e",
   "metadata": {
    "slideshow": {
     "slide_type": "subslide"
    }
   },
   "outputs": [],
   "source": [
    "# {key1: value1, key2: value2, ....}\n",
    "\n",
    "country_capitals = {\n",
    "    \"Hungary\": \"Budapest\", \n",
    "    \"France\": \"Paris\", \n",
    "    \"Australia\": \"Canberra\", \n",
    "    \"Spain\": \"Madrid\"\n",
    "}"
   ]
  },
  {
   "cell_type": "code",
   "execution_count": 26,
   "id": "d37513fd",
   "metadata": {
    "slideshow": {
     "slide_type": "subslide"
    }
   },
   "outputs": [
    {
     "data": {
      "text/plain": [
       "{'Hungary': 'Budapest',\n",
       " 'France': 'Paris',\n",
       " 'Australia': 'Canberra',\n",
       " 'Spain': 'Madrid'}"
      ]
     },
     "execution_count": 26,
     "metadata": {},
     "output_type": "execute_result"
    }
   ],
   "source": [
    "countries = [\"Hungary\", \"France\", \"Australia\", \"Spain\"]\n",
    "capitals = [\"Budapest\", \"Paris\", \"Canberra\", \"Madrid\"]\n",
    "\n",
    "# dict-comprehension\n",
    "{country: capital for country, capital in zip(countries, capitals)}"
   ]
  },
  {
   "cell_type": "code",
   "execution_count": 27,
   "id": "c06ef697",
   "metadata": {
    "slideshow": {
     "slide_type": "fragment"
    }
   },
   "outputs": [
    {
     "data": {
      "text/plain": [
       "{'Hungary': 'Budapest',\n",
       " 'France': 'Paris',\n",
       " 'Australia': 'Canberra',\n",
       " 'Spain': 'Madrid'}"
      ]
     },
     "execution_count": 27,
     "metadata": {},
     "output_type": "execute_result"
    }
   ],
   "source": [
    "dict(zip(countries, capitals))"
   ]
  },
  {
   "cell_type": "code",
   "execution_count": 1,
   "id": "84b94e89",
   "metadata": {
    "slideshow": {
     "slide_type": "subslide"
    }
   },
   "outputs": [],
   "source": [
    "muveletek={'+':lambda x,y:x+y,'-':lambda x,y:x-y,\n",
    "           '*':lambda x,y:x*y,'/':lambda x,y:x/y }\n",
    "def muvelet(a,b,operator):\n",
    "    return muveletek[operator](a,b)"
   ]
  },
  {
   "cell_type": "code",
   "execution_count": 2,
   "id": "7406478b",
   "metadata": {
    "slideshow": {
     "slide_type": "fragment"
    }
   },
   "outputs": [
    {
     "data": {
      "text/plain": [
       "12"
      ]
     },
     "execution_count": 2,
     "metadata": {},
     "output_type": "execute_result"
    }
   ],
   "source": [
    "muvelet(3,4,\"*\")"
   ]
  },
  {
   "cell_type": "markdown",
   "id": "cdb7d2eb",
   "metadata": {
    "slideshow": {
     "slide_type": "subslide"
    }
   },
   "source": [
    "### kulcs törlése"
   ]
  },
  {
   "cell_type": "code",
   "execution_count": 30,
   "id": "a9c932e0",
   "metadata": {
    "slideshow": {
     "slide_type": "fragment"
    }
   },
   "outputs": [
    {
     "name": "stdout",
     "output_type": "stream",
     "text": [
      "{'apple': 12, 'plum': 2}\n",
      "{'plum': 2}\n"
     ]
    }
   ],
   "source": [
    "d = {\"apple\": 12, \"plum\": 2}\n",
    "print(d)\n",
    "\n",
    "del d[\"apple\"]\n",
    "print(d)"
   ]
  },
  {
   "cell_type": "code",
   "execution_count": 31,
   "id": "b05fd958",
   "metadata": {
    "slideshow": {
     "slide_type": "subslide"
    }
   },
   "outputs": [
    {
     "name": "stdout",
     "output_type": "stream",
     "text": [
      "False\n",
      "True\n"
     ]
    }
   ],
   "source": [
    "# Az `in` kulcsszót használjuk annak a tesztelésére, \n",
    "#hogy valami előfordul-e kulcsként a szótárban.\n",
    "\n",
    "print(\"Portugal\" in country_capitals)\n",
    "\n",
    "print(\"Spain\" in country_capitals)"
   ]
  },
  {
   "cell_type": "code",
   "execution_count": 32,
   "id": "162b4b72",
   "metadata": {
    "slideshow": {
     "slide_type": "fragment"
    }
   },
   "outputs": [
    {
     "data": {
      "text/plain": [
       "'Paris'"
      ]
     },
     "execution_count": 32,
     "metadata": {},
     "output_type": "execute_result"
    }
   ],
   "source": [
    "# Adott kulcshoz tartozó érték lekérdezése\n",
    "\n",
    "country_capitals[\"France\"]"
   ]
  },
  {
   "cell_type": "code",
   "execution_count": 33,
   "id": "17de5005",
   "metadata": {
    "slideshow": {
     "slide_type": "fragment"
    }
   },
   "outputs": [
    {
     "ename": "KeyError",
     "evalue": "'Italy'",
     "output_type": "error",
     "traceback": [
      "\u001b[0;31m---------------------------------------------------------------------------\u001b[0m",
      "\u001b[0;31mKeyError\u001b[0m                                  Traceback (most recent call last)",
      "Cell \u001b[0;32mIn[33], line 1\u001b[0m\n\u001b[0;32m----> 1\u001b[0m \u001b[43mcountry_capitals\u001b[49m\u001b[43m[\u001b[49m\u001b[38;5;124;43m\"\u001b[39;49m\u001b[38;5;124;43mItaly\u001b[39;49m\u001b[38;5;124;43m\"\u001b[39;49m\u001b[43m]\u001b[49m\n",
      "\u001b[0;31mKeyError\u001b[0m: 'Italy'"
     ]
    }
   ],
   "source": [
    "country_capitals[\"Italy\"]"
   ]
  },
  {
   "cell_type": "code",
   "execution_count": 34,
   "id": "0e2a13ce",
   "metadata": {
    "slideshow": {
     "slide_type": "subslide"
    }
   },
   "outputs": [
    {
     "data": {
      "text/plain": [
       "'Paris'"
      ]
     },
     "execution_count": 34,
     "metadata": {},
     "output_type": "execute_result"
    }
   ],
   "source": [
    "country_capitals.get(\"France\")"
   ]
  },
  {
   "cell_type": "code",
   "execution_count": 35,
   "id": "ac9cc1e2",
   "metadata": {
    "slideshow": {
     "slide_type": "fragment"
    }
   },
   "outputs": [
    {
     "name": "stdout",
     "output_type": "stream",
     "text": [
      "None\n",
      "Not found.\n"
     ]
    }
   ],
   "source": [
    "# Ha nincs ilyen kulcs, kérhetünk default értéket is\n",
    "\n",
    "print(country_capitals.get(\"Italy\"))\n",
    "\n",
    "print(country_capitals.get(\"Italy\", \"Not found.\"))"
   ]
  },
  {
   "cell_type": "markdown",
   "id": "3ce363a7",
   "metadata": {
    "slideshow": {
     "slide_type": "subslide"
    }
   },
   "source": [
    "### dictionary bejárása\n",
    "\n",
    "- a kulcsok és az értékek külön és együtt is bejárhatóak \n",
    "- kulcsok iterálása"
   ]
  },
  {
   "cell_type": "code",
   "execution_count": 36,
   "id": "1b956815",
   "metadata": {
    "slideshow": {
     "slide_type": "fragment"
    }
   },
   "outputs": [
    {
     "name": "stdout",
     "output_type": "stream",
     "text": [
      "Hungary\n",
      "France\n",
      "Australia\n",
      "Spain\n"
     ]
    }
   ],
   "source": [
    "for country in country_capitals:\n",
    "    print(country)"
   ]
  },
  {
   "cell_type": "code",
   "execution_count": 37,
   "id": "c4c39144",
   "metadata": {
    "slideshow": {
     "slide_type": "subslide"
    }
   },
   "outputs": [
    {
     "name": "stdout",
     "output_type": "stream",
     "text": [
      "Hungary\n",
      "France\n",
      "Australia\n",
      "Spain\n"
     ]
    }
   ],
   "source": [
    "for country in country_capitals.keys():\n",
    "    print(country)"
   ]
  },
  {
   "cell_type": "code",
   "execution_count": 38,
   "id": "b9ca8dbf",
   "metadata": {
    "slideshow": {
     "slide_type": "subslide"
    }
   },
   "outputs": [
    {
     "name": "stdout",
     "output_type": "stream",
     "text": [
      "Budapest\n",
      "Paris\n",
      "Canberra\n",
      "Madrid\n"
     ]
    }
   ],
   "source": [
    "for capital in country_capitals.values():\n",
    "    print(capital)"
   ]
  },
  {
   "cell_type": "code",
   "execution_count": 39,
   "id": "5a7ec236",
   "metadata": {
    "slideshow": {
     "slide_type": "subslide"
    }
   },
   "outputs": [
    {
     "name": "stdout",
     "output_type": "stream",
     "text": [
      "The capital of Hungary is Budapest.\n",
      "The capital of France is Paris.\n",
      "The capital of Australia is Canberra.\n",
      "The capital of Spain is Madrid.\n"
     ]
    }
   ],
   "source": [
    "for country, capital in country_capitals.items():\n",
    "    print(f\"The capital of {country} is {capital}.\")"
   ]
  },
  {
   "cell_type": "code",
   "execution_count": 40,
   "id": "cb7a5323",
   "metadata": {
    "slideshow": {
     "slide_type": "subslide"
    }
   },
   "outputs": [
    {
     "data": {
      "text/plain": [
       "{'Hungary': 'Budapest',\n",
       " 'France': 'Paris',\n",
       " 'Australia': 'Canberra',\n",
       " 'Spain': 'Madrid',\n",
       " 'Serbia': 'Belgrade'}"
      ]
     },
     "execution_count": 40,
     "metadata": {},
     "output_type": "execute_result"
    }
   ],
   "source": [
    "country_capitals[\"Serbia\"] = \"Belgrade\"\n",
    "\n",
    "country_capitals"
   ]
  },
  {
   "cell_type": "code",
   "execution_count": 41,
   "id": "43eacccb",
   "metadata": {
    "slideshow": {
     "slide_type": "subslide"
    }
   },
   "outputs": [
    {
     "name": "stdout",
     "output_type": "stream",
     "text": [
      "Paris\n"
     ]
    },
    {
     "data": {
      "text/plain": [
       "{'Hungary': 'Budapest',\n",
       " 'Australia': 'Canberra',\n",
       " 'Spain': 'Madrid',\n",
       " 'Serbia': 'Belgrade'}"
      ]
     },
     "execution_count": 41,
     "metadata": {},
     "output_type": "execute_result"
    }
   ],
   "source": [
    "capital_of_france =  country_capitals.pop(\"France\")\n",
    "\n",
    "print(capital_of_france)\n",
    "\n",
    "country_capitals"
   ]
  },
  {
   "cell_type": "code",
   "execution_count": 42,
   "id": "b7cb69cd",
   "metadata": {
    "slideshow": {
     "slide_type": "subslide"
    }
   },
   "outputs": [
    {
     "ename": "KeyError",
     "evalue": "'Austria'",
     "output_type": "error",
     "traceback": [
      "\u001b[0;31m---------------------------------------------------------------------------\u001b[0m",
      "\u001b[0;31mKeyError\u001b[0m                                  Traceback (most recent call last)",
      "Cell \u001b[0;32mIn[42], line 1\u001b[0m\n\u001b[0;32m----> 1\u001b[0m \u001b[43mcountry_capitals\u001b[49m\u001b[38;5;241;43m.\u001b[39;49m\u001b[43mpop\u001b[49m\u001b[43m(\u001b[49m\u001b[38;5;124;43m\"\u001b[39;49m\u001b[38;5;124;43mAustria\u001b[39;49m\u001b[38;5;124;43m\"\u001b[39;49m\u001b[43m)\u001b[49m\n",
      "\u001b[0;31mKeyError\u001b[0m: 'Austria'"
     ]
    }
   ],
   "source": [
    "country_capitals.pop(\"Austria\")"
   ]
  },
  {
   "cell_type": "markdown",
   "id": "7f978d6f",
   "metadata": {
    "slideshow": {
     "slide_type": "slide"
    }
   },
   "source": [
    "### Mi történik a háttérben?\n",
    "\n",
    "-  a háttérben egy *hash table* jön létre\n",
    "  - ennek az a lényege, hogy minden kulcshoz hozzárendelünk egy hash értéket, ami egyenlő objektumoknál azonos és az objektumok helyett a hash értéket hasonlítjuk össze. Így gyorsabb lesz a rendszer, mert egy olyan adatstruktúrát alkalmazhatunk, amin ritkán kell változtatni. \n",
    "  - ezért a kulcsok nem lehetnek és nem tartalmazhatnak mutable objektumokat \n",
    "  - de lehetnek különböző tipusú kulcsok\n"
   ]
  },
  {
   "cell_type": "code",
   "execution_count": 44,
   "id": "7e899e4e",
   "metadata": {
    "slideshow": {
     "slide_type": "subslide"
    }
   },
   "outputs": [
    {
     "data": {
      "text/plain": [
       "{1: 'a', (3+2j): 'b', 'c': 1.0}"
      ]
     },
     "execution_count": 44,
     "metadata": {},
     "output_type": "execute_result"
    }
   ],
   "source": [
    "d = {}\n",
    "d[1] = \"a\"  # numeric types are immutable\n",
    "d[3+2j] = \"b\"\n",
    "d[\"c\"] = 1.0\n",
    "d"
   ]
  },
  {
   "cell_type": "code",
   "execution_count": 45,
   "id": "537dcc01",
   "metadata": {
    "slideshow": {
     "slide_type": "subslide"
    }
   },
   "outputs": [
    {
     "data": {
      "text/plain": [
       "(1, 1000, 8307001606508302924)"
      ]
     },
     "execution_count": 45,
     "metadata": {},
     "output_type": "execute_result"
    }
   ],
   "source": [
    "hash(1), hash(1000), hash((100,100,1))"
   ]
  },
  {
   "cell_type": "code",
   "execution_count": 46,
   "id": "b5460a46",
   "metadata": {
    "slideshow": {
     "slide_type": "fragment"
    }
   },
   "outputs": [
    {
     "ename": "TypeError",
     "evalue": "unhashable type: 'list'",
     "output_type": "error",
     "traceback": [
      "\u001b[0;31m---------------------------------------------------------------------------\u001b[0m",
      "\u001b[0;31mTypeError\u001b[0m                                 Traceback (most recent call last)",
      "Cell \u001b[0;32mIn[46], line 1\u001b[0m\n\u001b[0;32m----> 1\u001b[0m \u001b[38;5;28;43mhash\u001b[39;49m\u001b[43m(\u001b[49m\u001b[43m[\u001b[49m\u001b[38;5;241;43m21\u001b[39;49m\u001b[43m,\u001b[49m\u001b[38;5;241;43m1\u001b[39;49m\u001b[43m]\u001b[49m\u001b[43m)\u001b[49m\n",
      "\u001b[0;31mTypeError\u001b[0m: unhashable type: 'list'"
     ]
    }
   ],
   "source": [
    "hash([21,1])"
   ]
  },
  {
   "cell_type": "markdown",
   "id": "d972fb6a",
   "metadata": {
    "slideshow": {
     "slide_type": "subslide"
    }
   },
   "source": [
    "Lista tehát nem használható dictionary kulcsaként, de tuple igen. Minden olyan dolog lehet kulcs, ami hashelhető."
   ]
  },
  {
   "cell_type": "code",
   "execution_count": 47,
   "id": "f57e15c4",
   "metadata": {
    "slideshow": {
     "slide_type": "fragment"
    }
   },
   "outputs": [
    {
     "data": {
      "text/plain": [
       "{1: 'a', (3+2j): 'b', 'c': 1.0, ('apple', 1): -2}"
      ]
     },
     "execution_count": 47,
     "metadata": {},
     "output_type": "execute_result"
    }
   ],
   "source": [
    "d[(\"apple\", 1)] = -2\n",
    "d"
   ]
  },
  {
   "cell_type": "markdown",
   "id": "5f62bee5",
   "metadata": {
    "slideshow": {
     "slide_type": "subslide"
    }
   },
   "source": [
    "### Q. Lehetnek-e ezek dictionary kulcsok?\n",
    "\n",
    "```\n",
    "a) key1 = (2, (3, 4))\n",
    "b) key2 = (2, [], (3, 4))\n",
    "```"
   ]
  },
  {
   "cell_type": "code",
   "execution_count": 48,
   "id": "2afead61",
   "metadata": {
    "slideshow": {
     "slide_type": "-"
    }
   },
   "outputs": [
    {
     "data": {
      "text/plain": [
       "{}"
      ]
     },
     "execution_count": 48,
     "metadata": {},
     "output_type": "execute_result"
    }
   ],
   "source": [
    "key1 = (2, (3, 4))\n",
    "key2 = (2, [], (3, 4))\n",
    "\n",
    "d = {}\n",
    "#d[key1] = 1\n",
    "#d[key2] = 2\n",
    "d"
   ]
  },
  {
   "cell_type": "markdown",
   "id": "0fc0166f",
   "metadata": {
    "slideshow": {
     "slide_type": "subslide"
    }
   },
   "source": [
    "### Q.  Mi ennek az eredménye? \n",
    "\n",
    "```python \n",
    "d = {1: \"int\", 1.0: \"float\", True: \"bool\"}\n",
    "print(d)\n",
    "```\n",
    "\n",
    "a) {1: 'int', 1.0: 'float', True: 'bool'}\n",
    "\n",
    "b) {1: 'int'}\n",
    "\n",
    "c) {1: 'bool'}"
   ]
  },
  {
   "cell_type": "markdown",
   "id": "249ed2da",
   "metadata": {
    "slideshow": {
     "slide_type": "slide"
    }
   },
   "source": [
    "### Függvények újra. `args` és `kwargs`\n",
    "\n",
    "- mind a pozíciós és a kulcsszavas argumentumok is összegyűjthetőek a `*` és `**` operátorokkal\n",
    "- Rugalmasabb függvényírást tesznek lehetővé"
   ]
  },
  {
   "cell_type": "markdown",
   "id": "d504ae54",
   "metadata": {
    "slideshow": {
     "slide_type": "subslide"
    }
   },
   "source": [
    "### *args → tetszőleges számú pozicionális argumentum\n",
    "\n",
    "A *args összegyűjti az extra pozicionális argumentumokat egy tuple-be\n",
    "\n",
    "Akkor hasznos, ha nem tudjuk előre, hány bemenetet kapunk."
   ]
  },
  {
   "cell_type": "code",
   "execution_count": 49,
   "id": "48cf6c18",
   "metadata": {
    "slideshow": {
     "slide_type": "fragment"
    }
   },
   "outputs": [
    {
     "name": "stdout",
     "output_type": "stream",
     "text": [
      "(1, 2, 3) <class 'tuple'>\n"
     ]
    }
   ],
   "source": [
    "def demo_args(*args):\n",
    "    print(args, type(args))\n",
    "\n",
    "demo_args(1, 2, 3)"
   ]
  },
  {
   "cell_type": "markdown",
   "id": "67ab3233",
   "metadata": {
    "slideshow": {
     "slide_type": "subslide"
    }
   },
   "source": [
    "### *kwargs → tetszőleges számú kulcsszavas argumentum\n",
    "\n",
    "A **kwargs összegyűjti az extra kulcsszavas argumentumokat egy szótárba."
   ]
  },
  {
   "cell_type": "code",
   "execution_count": 50,
   "id": "e21e261f",
   "metadata": {
    "slideshow": {
     "slide_type": "fragment"
    }
   },
   "outputs": [
    {
     "name": "stdout",
     "output_type": "stream",
     "text": [
      "{'a': 1, 'b': 2, 'c': 3} <class 'dict'>\n"
     ]
    }
   ],
   "source": [
    "def demo_kwargs(**kwargs):\n",
    "    print(kwargs, type(kwargs))\n",
    "\n",
    "demo_kwargs(a=1, b=2, c=3)"
   ]
  },
  {
   "cell_type": "code",
   "execution_count": 51,
   "id": "c754a818",
   "metadata": {
    "slideshow": {
     "slide_type": "subslide"
    }
   },
   "outputs": [
    {
     "name": "stdout",
     "output_type": "stream",
     "text": [
      "x = 10\n",
      "args = (20, 30)\n",
      "kwargs = {'y': 40, 'z': 50}\n"
     ]
    }
   ],
   "source": [
    "def demo_all(x, *args, **kwargs):\n",
    "    print(\"x =\", x)\n",
    "    print(\"args =\", args)\n",
    "    print(\"kwargs =\", kwargs)\n",
    "\n",
    "demo_all(10, 20, 30, y=40, z=50)"
   ]
  },
  {
   "cell_type": "markdown",
   "id": "c0dc7cd5",
   "metadata": {
    "slideshow": {
     "slide_type": "slide"
    }
   },
   "source": [
    "## Halmazok (Sets)"
   ]
  },
  {
   "cell_type": "markdown",
   "id": "a63936da",
   "metadata": {
    "slideshow": {
     "slide_type": "subslide"
    }
   },
   "source": [
    "A halmaz olyan adatszerkezet, amely csupa különböző elemet tartalmaz. Ez persze implicit módon azt is jelenti, hogy a halmazba tett elemeket össze kell tudnunk hasonlítani egyenlőség szempontjából. Ami viszont nem egyértelmű, hogy halmazba csak hash-elhető elem kerülhet. Ennek az az oka, hogy a halmaz adatszerkezet Pythonban ismét hash-táblával van implementálva.\n",
    "\n",
    "Ugyan első hallásra a `dictionary` és a `set` nagyon különböző adatszerkezetnek tűnhet, valójában nagyon hasonló módon vannak implementálva."
   ]
  },
  {
   "cell_type": "code",
   "execution_count": 52,
   "id": "f9510012",
   "metadata": {
    "slideshow": {
     "slide_type": "subslide"
    }
   },
   "outputs": [
    {
     "name": "stdout",
     "output_type": "stream",
     "text": [
      "140399222093440\n",
      "140399222093440\n"
     ]
    },
    {
     "data": {
      "text/plain": [
       "{2, 3}"
      ]
     },
     "execution_count": 52,
     "metadata": {},
     "output_type": "execute_result"
    }
   ],
   "source": [
    "s = set() # a {} az üres dict-et jelölné\n",
    "print(id(s))\n",
    "s.add(2)\n",
    "print(id(s))\n",
    "s.add(3)\n",
    "s.add(2)\n",
    "s"
   ]
  },
  {
   "cell_type": "code",
   "execution_count": 53,
   "id": "c7febccb",
   "metadata": {
    "slideshow": {
     "slide_type": "subslide"
    }
   },
   "outputs": [
    {
     "data": {
      "text/plain": [
       "{'fej', 'írás'}"
      ]
     },
     "execution_count": 53,
     "metadata": {},
     "output_type": "execute_result"
    }
   ],
   "source": [
    "\n",
    "{\"fej\", \"írás\", \"írás\", \"írás\", \"fej\"}"
   ]
  },
  {
   "cell_type": "code",
   "execution_count": 6,
   "id": "4f4ea87b",
   "metadata": {
    "slideshow": {
     "slide_type": "fragment"
    }
   },
   "outputs": [
    {
     "data": {
      "text/plain": [
       "(set, {(1, 2, 3), 2, 3})"
      ]
     },
     "execution_count": 6,
     "metadata": {},
     "output_type": "execute_result"
    }
   ],
   "source": [
    "s = {2, 3, 2,(1,2,3)}\n",
    "type(s), s"
   ]
  },
  {
   "cell_type": "code",
   "execution_count": 55,
   "id": "a8f50714",
   "metadata": {
    "slideshow": {
     "slide_type": "fragment"
    }
   },
   "outputs": [
    {
     "ename": "TypeError",
     "evalue": "unhashable type: 'list'",
     "output_type": "error",
     "traceback": [
      "\u001b[0;31m---------------------------------------------------------------------------\u001b[0m",
      "\u001b[0;31mTypeError\u001b[0m                                 Traceback (most recent call last)",
      "Cell \u001b[0;32mIn[55], line 1\u001b[0m\n\u001b[0;32m----> 1\u001b[0m s \u001b[38;5;241m=\u001b[39m {[\u001b[38;5;241m1\u001b[39m,\u001b[38;5;241m2\u001b[39m]}\n",
      "\u001b[0;31mTypeError\u001b[0m: unhashable type: 'list'"
     ]
    }
   ],
   "source": [
    "s = {[1,2]}"
   ]
  },
  {
   "cell_type": "markdown",
   "id": "dc2e3fa3",
   "metadata": {
    "slideshow": {
     "slide_type": "subslide"
    }
   },
   "source": [
    "### deleting elements"
   ]
  },
  {
   "cell_type": "code",
   "execution_count": 56,
   "id": "20785f5e",
   "metadata": {
    "slideshow": {
     "slide_type": "fragment"
    }
   },
   "outputs": [
    {
     "data": {
      "text/plain": [
       "{(1, 2, 3), 3}"
      ]
     },
     "execution_count": 56,
     "metadata": {},
     "output_type": "execute_result"
    }
   ],
   "source": [
    "s.add(2)\n",
    "s.remove(2)\n",
    "#s.remove(2)  #  KeyErrort kapunk mert már töröltük\n",
    "s.discard(2)  # töröl, ha benne van, különben semmit sem csinál\n",
    "s"
   ]
  },
  {
   "cell_type": "markdown",
   "id": "31f9837f",
   "metadata": {
    "slideshow": {
     "slide_type": "subslide"
    }
   },
   "source": [
    "### set operációk\n",
    "\n",
    " - két féle jelölés van rájuk\n",
    " \n",
    "  1. függvények\n",
    "  2. operátorok"
   ]
  },
  {
   "cell_type": "code",
   "execution_count": 3,
   "id": "6569da80",
   "metadata": {
    "slideshow": {
     "slide_type": "subslide"
    }
   },
   "outputs": [
    {
     "name": "stdout",
     "output_type": "stream",
     "text": [
      "{1, 2, 3, 4, 5, 6}\n",
      "{1, 2, 3, 4, 5, 6}\n",
      "\n",
      "{4, 5}\n",
      "{4, 5}\n"
     ]
    }
   ],
   "source": [
    "s = {1, 2, 3, 4, 5}\n",
    "t = {4, 5, 6}\n",
    "u = {5, 6}\n",
    "\n",
    "print(s.union(t))\n",
    "print(s | t)\n",
    "print()\n",
    "\n",
    "print(s.intersection(t))\n",
    "print(s & t)\n"
   ]
  },
  {
   "cell_type": "code",
   "execution_count": 4,
   "id": "33d7df72",
   "metadata": {
    "slideshow": {
     "slide_type": "subslide"
    }
   },
   "outputs": [
    {
     "name": "stdout",
     "output_type": "stream",
     "text": [
      "{1, 2, 3, 4}\n",
      "{1, 2, 3, 4}\n",
      "\n",
      "{6}\n",
      "{6}\n"
     ]
    }
   ],
   "source": [
    "s = {1, 2, 3, 4, 5}\n",
    "t = {4, 5, 6}\n",
    "u = {5, 6}\n",
    "\n",
    "\n",
    "print(s - u)\n",
    "print(s.difference(u))\n",
    "\n",
    "print()\n",
    "\n",
    "print(u - s)\n",
    "print(u.difference(s))\n"
   ]
  },
  {
   "cell_type": "markdown",
   "id": "58f7844d",
   "metadata": {
    "slideshow": {
     "slide_type": "subslide"
    }
   },
   "source": [
    "- ezek az operációk egy új `set`-tel térnek vissza. "
   ]
  },
  {
   "cell_type": "code",
   "execution_count": 58,
   "id": "6e6c6fe1",
   "metadata": {
    "slideshow": {
     "slide_type": "fragment"
    }
   },
   "outputs": [
    {
     "data": {
      "text/plain": [
       "(set, False, False)"
      ]
     },
     "execution_count": 58,
     "metadata": {},
     "output_type": "execute_result"
    }
   ],
   "source": [
    "v = s & t\n",
    "type(v), s is v, t is v"
   ]
  },
  {
   "cell_type": "markdown",
   "id": "2f63b480",
   "metadata": {
    "slideshow": {
     "slide_type": "subslide"
    }
   },
   "source": [
    "### `issubset` és `issuperset`"
   ]
  },
  {
   "cell_type": "code",
   "execution_count": 5,
   "id": "a3c42f2a",
   "metadata": {
    "slideshow": {
     "slide_type": "fragment"
    }
   },
   "outputs": [
    {
     "name": "stdout",
     "output_type": "stream",
     "text": [
      "True\n",
      "True\n",
      "False\n",
      "False\n"
     ]
    }
   ],
   "source": [
    "s = {1, 2, 3, 4, 5}\n",
    "t = {4, 5, 6}\n",
    "u = {5, 6}\n",
    "\n",
    "\n",
    "print(u <= t)\n",
    "print(u.issubset(t))\n",
    "\n",
    "print(s >= u)\n",
    "print(s.issuperset(u))\n"
   ]
  },
  {
   "cell_type": "markdown",
   "id": "922a6a2e",
   "metadata": {
    "slideshow": {
     "slide_type": "subslide"
    }
   },
   "source": [
    "## hasznos tulajdonságok \n",
    "\n",
    "-  megszüntethetjük a duplikációkat"
   ]
  },
  {
   "cell_type": "code",
   "execution_count": 60,
   "id": "7d3973ca",
   "metadata": {
    "slideshow": {
     "slide_type": "subslide"
    }
   },
   "outputs": [
    {
     "data": {
      "text/plain": [
       "{'i', 'k', 'r', 'u'}"
      ]
     },
     "execution_count": 60,
     "metadata": {},
     "output_type": "execute_result"
    }
   ],
   "source": [
    "string = \"kukkkuuuurrrriiiikuuuuuuuu\"\n",
    "\n",
    "letters = set()  \n",
    "for char in string:\n",
    "    letters.add(char)\n",
    "    \n",
    "\n",
    "letters"
   ]
  },
  {
   "cell_type": "code",
   "execution_count": 61,
   "id": "0ce893c8",
   "metadata": {
    "slideshow": {
     "slide_type": "subslide"
    }
   },
   "outputs": [
    {
     "data": {
      "text/plain": [
       "{'i', 'k', 'r', 'u'}"
      ]
     },
     "execution_count": 61,
     "metadata": {},
     "output_type": "execute_result"
    }
   ],
   "source": [
    "# Set comprehension\n",
    "\n",
    "{char for char in string}"
   ]
  },
  {
   "cell_type": "code",
   "execution_count": 62,
   "id": "9baf0e6c",
   "metadata": {
    "slideshow": {
     "slide_type": "subslide"
    }
   },
   "outputs": [
    {
     "data": {
      "text/plain": [
       "{-1, 0, 1, 2, 3}"
      ]
     },
     "execution_count": 62,
     "metadata": {},
     "output_type": "execute_result"
    }
   ],
   "source": [
    "l = [1, 2, 3, -1, 1, 2, 1, 0]\n",
    "uniq = set(l)\n",
    "uniq"
   ]
  },
  {
   "cell_type": "code",
   "execution_count": 63,
   "id": "5c289b82",
   "metadata": {
    "slideshow": {
     "slide_type": "subslide"
    }
   },
   "outputs": [
    {
     "name": "stdout",
     "output_type": "stream",
     "text": [
      "{1, 2, 3, 4, 5}\n"
     ]
    }
   ],
   "source": [
    "s = {1, 2, 3}\n",
    "\n",
    "lst = [1, 1, 2, 4, 5]\n",
    "\n",
    "s.update(lst)\n",
    "\n",
    "print(s)"
   ]
  },
  {
   "cell_type": "code",
   "execution_count": 64,
   "id": "e848d465",
   "metadata": {
    "slideshow": {
     "slide_type": "subslide"
    }
   },
   "outputs": [
    {
     "name": "stdout",
     "output_type": "stream",
     "text": [
      "{3}\n"
     ]
    }
   ],
   "source": [
    "s = {1, 2, 3}\n",
    "\n",
    "lst = [1, 1, 2, 4, 5]\n",
    "\n",
    "s.difference_update(lst)\n",
    "\n",
    "print(s)"
   ]
  },
  {
   "cell_type": "markdown",
   "id": "0cb1a4ac",
   "metadata": {
    "slideshow": {
     "slide_type": "subslide"
    }
   },
   "source": [
    "A halmaz mutable adatszerkezet, azonban a listához hasonlóan ennek is létezik immutable párja, a `frozenset`.\n",
    "\n",
    "```python\n",
    "s = frozenset({1, 2, 3})\n",
    "```"
   ]
  },
  {
   "cell_type": "markdown",
   "id": "029f4582",
   "metadata": {
    "slideshow": {
     "slide_type": "subslide"
    }
   },
   "source": [
    "**Feladat**: Számoljuk meg egy szövegben a betűk előfordulásainak számát."
   ]
  },
  {
   "cell_type": "code",
   "execution_count": 2,
   "id": "25ba0247",
   "metadata": {
    "slideshow": {
     "slide_type": "fragment"
    }
   },
   "outputs": [],
   "source": [
    "text = \"The most disastrous thing that you can ever learn is your first programming language. - Alan Kay\""
   ]
  },
  {
   "cell_type": "code",
   "execution_count": 4,
   "id": "e5813fc5",
   "metadata": {
    "slideshow": {
     "slide_type": "subslide"
    }
   },
   "outputs": [
    {
     "name": "stdout",
     "output_type": "stream",
     "text": [
      "{'T': 1, 'h': 3, 'e': 5, ' ': 16, 'm': 3, 'o': 5, 's': 6, 't': 6, 'd': 1, 'i': 5, 'a': 9, 'r': 7, 'u': 4, 'n': 6, 'g': 5, 'y': 3, 'c': 1, 'v': 1, 'l': 3, 'f': 1, 'p': 1, '.': 1, '-': 1, 'A': 1, 'K': 1}\n"
     ]
    }
   ],
   "source": [
    "def count_letters(string):\n",
    "    counts = {}\n",
    "    for char in string:\n",
    "        if char in counts:\n",
    "            counts[char] += 1  # counts[char] = counts[char] + 1\n",
    "        else:\n",
    "            counts[char] = 1\n",
    "    \n",
    "    return counts\n",
    "\n",
    "\n",
    "print(count_letters(text))"
   ]
  },
  {
   "cell_type": "code",
   "execution_count": 5,
   "id": "e6da07d6",
   "metadata": {
    "slideshow": {
     "slide_type": "subslide"
    }
   },
   "outputs": [
    {
     "name": "stdout",
     "output_type": "stream",
     "text": [
      "{'T': 1, 'h': 3, 'e': 5, ' ': 16, 'm': 3, 'o': 5, 's': 6, 't': 6, 'd': 1, 'i': 5, 'a': 9, 'r': 7, 'u': 4, 'n': 6, 'g': 5, 'y': 3, 'c': 1, 'v': 1, 'l': 3, 'f': 1, 'p': 1, '.': 1, '-': 1, 'A': 1, 'K': 1}\n"
     ]
    }
   ],
   "source": [
    "def count_letters_2(string):\n",
    "    counts = {}\n",
    "    for char in string:\n",
    "        counts[char] = counts.get(char, 0) + 1\n",
    "    \n",
    "    return counts\n",
    "\n",
    "\n",
    "print(count_letters_2(text))"
   ]
  },
  {
   "cell_type": "markdown",
   "id": "78375da4",
   "metadata": {
    "slideshow": {
     "slide_type": "slide"
    }
   },
   "source": [
    "## Egyéb hasznos adatszerkezetek (More collections)"
   ]
  },
  {
   "cell_type": "markdown",
   "id": "e0a2897e",
   "metadata": {
    "slideshow": {
     "slide_type": "slide"
    }
   },
   "source": [
    "További gyakran használatos adatszerkezetek érhetők el a `collections` könyvtárban. Az itt implementált adatszerkezeteket be kell importálni, hogy használni tudjuk."
   ]
  },
  {
   "cell_type": "code",
   "execution_count": 6,
   "id": "721d6bd7",
   "metadata": {
    "slideshow": {
     "slide_type": "subslide"
    }
   },
   "outputs": [
    {
     "name": "stdout",
     "output_type": "stream",
     "text": [
      "defaultdict(<class 'int'>, {})\n"
     ]
    }
   ],
   "source": [
    "# Ezen a módon a collections könyvtár tartalma \n",
    "# elérhetővé válik a collections-prefixszel\n",
    "import collections\n",
    "\n",
    "d = collections.defaultdict(int)\n",
    "\n",
    "print(d)"
   ]
  },
  {
   "cell_type": "code",
   "execution_count": 7,
   "id": "77885e2d",
   "metadata": {
    "slideshow": {
     "slide_type": "subslide"
    }
   },
   "outputs": [
    {
     "name": "stdout",
     "output_type": "stream",
     "text": [
      "defaultdict(<class 'int'>, {})\n"
     ]
    }
   ],
   "source": [
    "# Az importált modult egy alias-szal látunk el és így \n",
    "# lehet hivatkozni a modul függvényeire, osztályaira\n",
    "import collections as cl\n",
    "\n",
    "d = cl.defaultdict(int)\n",
    "\n",
    "print(d)"
   ]
  },
  {
   "cell_type": "code",
   "execution_count": 8,
   "id": "025eba6a",
   "metadata": {
    "slideshow": {
     "slide_type": "subslide"
    }
   },
   "outputs": [
    {
     "name": "stdout",
     "output_type": "stream",
     "text": [
      "defaultdict(<class 'int'>, {})\n"
     ]
    }
   ],
   "source": [
    "# Ezen a módon a futó kód globális névteréből lesz \n",
    "# elérhető a beimportált függvény vagy osztály.\n",
    "from collections import defaultdict\n",
    "\n",
    "d = defaultdict(int)\n",
    "\n",
    "print(d)"
   ]
  },
  {
   "cell_type": "markdown",
   "id": "88a0d980",
   "metadata": {
    "slideshow": {
     "slide_type": "slide"
    }
   },
   "source": [
    "A `defaultdict` egy olyan szótár, amely nem dob hibát, ha nemlétező kulcsot keresünk benne, hanem ilyenkor beteszi az új kulcsot egy alapértelmezett értékkel: `defaultdict(int)` esetén a default érték 0, `defaultdict(list)` esetén az üres lista, `defaultdict(set)` esetén az üres halmaz."
   ]
  },
  {
   "cell_type": "code",
   "execution_count": 9,
   "id": "de8f3399",
   "metadata": {
    "slideshow": {
     "slide_type": "fragment"
    }
   },
   "outputs": [
    {
     "name": "stdout",
     "output_type": "stream",
     "text": [
      "defaultdict(<class 'int'>, {'T': 1, 'h': 3, 'e': 5, ' ': 16, 'm': 3, 'o': 5, 's': 6, 't': 6, 'd': 1, 'i': 5, 'a': 9, 'r': 7, 'u': 4, 'n': 6, 'g': 5, 'y': 3, 'c': 1, 'v': 1, 'l': 3, 'f': 1, 'p': 1, '.': 1, '-': 1, 'A': 1, 'K': 1})\n"
     ]
    }
   ],
   "source": [
    "def count_letters_3(string):\n",
    "    counts = defaultdict(int)\n",
    "    for char in string:\n",
    "        counts[char] += 1 \n",
    "    \n",
    "    return counts\n",
    "\n",
    "\n",
    "print(count_letters_3(text))"
   ]
  },
  {
   "cell_type": "markdown",
   "id": "2acd7cf2",
   "metadata": {
    "slideshow": {
     "slide_type": "subslide"
    }
   },
   "source": [
    "Mivel megszámlálni elemeket elég gyakori feladat, erre van egy külön osztály, ami ezt a problémát oldja meg."
   ]
  },
  {
   "cell_type": "code",
   "execution_count": 10,
   "id": "83bd9d3c",
   "metadata": {
    "slideshow": {
     "slide_type": "fragment"
    }
   },
   "outputs": [
    {
     "name": "stdout",
     "output_type": "stream",
     "text": [
      "[(' ', 16), ('a', 9), ('r', 7), ('s', 6), ('t', 6)]\n",
      "\n",
      "dict_items([('T', 1), ('h', 3), ('e', 5), (' ', 16), ('m', 3), ('o', 5), ('s', 6), ('t', 6), ('d', 1), ('i', 5), ('a', 9), ('r', 7), ('u', 4), ('n', 6), ('g', 5), ('y', 3), ('c', 1), ('v', 1), ('l', 3), ('f', 1), ('p', 1), ('.', 1), ('-', 1), ('A', 1), ('K', 1)])\n"
     ]
    }
   ],
   "source": [
    "from collections import Counter\n",
    "\n",
    "\n",
    "def count_letters_4(string):\n",
    "    return Counter(string)\n",
    "\n",
    "\n",
    "counter = count_letters_4(text)\n",
    "\n",
    "print(counter.most_common(n=5))\n",
    "print()\n",
    "print(counter.items())"
   ]
  },
  {
   "cell_type": "markdown",
   "id": "d86cfe0c",
   "metadata": {
    "slideshow": {
     "slide_type": "slide"
    }
   },
   "source": [
    "Végül egy hasznos adatszerkezetről lesz szó, a `namedtuple`-ről, ami egy olyan tuple, ahol a mezők nem csak index alapján, hanem név alapján is elérhetők."
   ]
  },
  {
   "cell_type": "code",
   "execution_count": 11,
   "id": "2438188e",
   "metadata": {
    "slideshow": {
     "slide_type": "fragment"
    }
   },
   "outputs": [
    {
     "data": {
      "text/plain": [
       "(2, 46, 40)"
      ]
     },
     "execution_count": 11,
     "metadata": {},
     "output_type": "execute_result"
    }
   ],
   "source": [
    "def seconds_to_time(seconds):\n",
    "    \"\"\"Convert time given in seconds to (hour, minute, second) format.\"\"\"\n",
    "    minutes, seconds = divmod(seconds, 60)\n",
    "    hours, minutes = divmod(minutes, 60)\n",
    "    return hours, minutes, seconds\n",
    "\n",
    "\n",
    "seconds_to_time(10000)"
   ]
  },
  {
   "cell_type": "code",
   "execution_count": 12,
   "id": "1f460848",
   "metadata": {
    "slideshow": {
     "slide_type": "fragment"
    }
   },
   "outputs": [
    {
     "name": "stdout",
     "output_type": "stream",
     "text": [
      "Help on function seconds_to_time in module __main__:\n",
      "\n",
      "seconds_to_time(seconds)\n",
      "    Convert time given in seconds to (hour, minute, second) format.\n",
      "\n"
     ]
    }
   ],
   "source": [
    "help(seconds_to_time)"
   ]
  },
  {
   "cell_type": "code",
   "execution_count": 13,
   "id": "76cb7986",
   "metadata": {
    "slideshow": {
     "slide_type": "subslide"
    }
   },
   "outputs": [],
   "source": [
    "from collections import namedtuple\n",
    "\n",
    "Time = namedtuple(\"Time\", [\"hour\", \"minute\", \"second\"])"
   ]
  },
  {
   "cell_type": "code",
   "execution_count": 14,
   "id": "445b2f99",
   "metadata": {
    "slideshow": {
     "slide_type": "fragment"
    }
   },
   "outputs": [
    {
     "name": "stdout",
     "output_type": "stream",
     "text": [
      "Time(hour=2, minute=46, second=40)\n",
      "2 46 40\n",
      "10000 seconds is 2 hour(s), 46 minute(s), 40 second(s).\n"
     ]
    }
   ],
   "source": [
    "def seconds_to_time_2(seconds):\n",
    "    \"\"\"Convert time in seconds to hour, minute, second format\"\"\"\n",
    "    minutes, seconds = divmod(seconds, 60)\n",
    "    hours, minutes = divmod(minutes, 60)\n",
    "    return Time(hour=hours, minute=minutes, second=seconds)\n",
    "\n",
    "\n",
    "result = seconds_to_time_2(10000)\n",
    "print(result)\n",
    "print(result[0], result[1], result[2])\n",
    "print(f\"10000 seconds is {result.hour} hour(s), {result.minute} minute(s), {result.second} second(s).\")"
   ]
  },
  {
   "cell_type": "markdown",
   "id": "3303fc5e",
   "metadata": {
    "slideshow": {
     "slide_type": "slide"
    }
   },
   "source": [
    "# Kivételkezelés (Exception handling)"
   ]
  },
  {
   "cell_type": "code",
   "execution_count": 15,
   "id": "f3a75c76",
   "metadata": {
    "slideshow": {
     "slide_type": "subslide"
    }
   },
   "outputs": [
    {
     "ename": "ZeroDivisionError",
     "evalue": "division by zero",
     "output_type": "error",
     "traceback": [
      "\u001b[0;31m---------------------------------------------------------------------------\u001b[0m",
      "\u001b[0;31mZeroDivisionError\u001b[0m                         Traceback (most recent call last)",
      "Cell \u001b[0;32mIn[15], line 1\u001b[0m\n\u001b[0;32m----> 1\u001b[0m \u001b[38;5;241;43m1\u001b[39;49m\u001b[43m \u001b[49m\u001b[38;5;241;43m/\u001b[39;49m\u001b[43m \u001b[49m\u001b[38;5;241;43m0\u001b[39;49m\n",
      "\u001b[0;31mZeroDivisionError\u001b[0m: division by zero"
     ]
    }
   ],
   "source": [
    "1 / 0"
   ]
  },
  {
   "cell_type": "code",
   "execution_count": 16,
   "id": "bd17c23f",
   "metadata": {
    "slideshow": {
     "slide_type": "subslide"
    }
   },
   "outputs": [
    {
     "ename": "NameError",
     "evalue": "name 'xyz' is not defined",
     "output_type": "error",
     "traceback": [
      "\u001b[0;31m---------------------------------------------------------------------------\u001b[0m",
      "\u001b[0;31mNameError\u001b[0m                                 Traceback (most recent call last)",
      "Cell \u001b[0;32mIn[16], line 1\u001b[0m\n\u001b[0;32m----> 1\u001b[0m \u001b[43mxyz\u001b[49m \u001b[38;5;241m+\u001b[39m \u001b[38;5;241m10\u001b[39m\n",
      "\u001b[0;31mNameError\u001b[0m: name 'xyz' is not defined"
     ]
    }
   ],
   "source": [
    "xyz + 10"
   ]
  },
  {
   "cell_type": "code",
   "execution_count": 17,
   "id": "4bbe5907",
   "metadata": {
    "slideshow": {
     "slide_type": "subslide"
    }
   },
   "outputs": [
    {
     "ename": "ValueError",
     "evalue": "invalid literal for int() with base 10: '12.345'",
     "output_type": "error",
     "traceback": [
      "\u001b[0;31m---------------------------------------------------------------------------\u001b[0m",
      "\u001b[0;31mValueError\u001b[0m                                Traceback (most recent call last)",
      "Cell \u001b[0;32mIn[17], line 1\u001b[0m\n\u001b[0;32m----> 1\u001b[0m \u001b[38;5;28;43mint\u001b[39;49m\u001b[43m(\u001b[49m\u001b[38;5;124;43m\"\u001b[39;49m\u001b[38;5;124;43m12.345\u001b[39;49m\u001b[38;5;124;43m\"\u001b[39;49m\u001b[43m)\u001b[49m\n",
      "\u001b[0;31mValueError\u001b[0m: invalid literal for int() with base 10: '12.345'"
     ]
    }
   ],
   "source": [
    "int(\"12.345\")"
   ]
  },
  {
   "cell_type": "markdown",
   "id": "134cac9c",
   "metadata": {
    "slideshow": {
     "slide_type": "slide"
    }
   },
   "source": [
    "Kivételek mindig is előfordulhatnak, azaz olyan helyzetek, amikor a számolás értelmetlen, vagy egy fájlt kell megnyitni, ami nem is létezik, egy adatbázishoz kapcsolódunk, ahol nem jó a jelszó, vagy nem elérhető a szerver, valamit konvertálni kell valami mássá, de nem lehetséges."
   ]
  },
  {
   "cell_type": "markdown",
   "id": "3e74512f",
   "metadata": {
    "slideshow": {
     "slide_type": "subslide"
    }
   },
   "source": [
    "Pl. konvertáljuk egy sztringet egész számmá, ha ez lehetséges."
   ]
  },
  {
   "cell_type": "code",
   "execution_count": 18,
   "id": "6e10d3b0",
   "metadata": {
    "slideshow": {
     "slide_type": "fragment"
    }
   },
   "outputs": [
    {
     "name": "stdout",
     "output_type": "stream",
     "text": [
      "100\n"
     ]
    },
    {
     "ename": "ValueError",
     "evalue": "invalid literal for int() with base 10: '10.0'",
     "output_type": "error",
     "traceback": [
      "\u001b[0;31m---------------------------------------------------------------------------\u001b[0m",
      "\u001b[0;31mValueError\u001b[0m                                Traceback (most recent call last)",
      "Cell \u001b[0;32mIn[18], line 7\u001b[0m\n\u001b[1;32m      2\u001b[0m     \u001b[38;5;28;01mreturn\u001b[39;00m \u001b[38;5;28mint\u001b[39m(s)\n\u001b[1;32m      5\u001b[0m \u001b[38;5;28mprint\u001b[39m(convert_to_int(\u001b[38;5;124m\"\u001b[39m\u001b[38;5;124m100\u001b[39m\u001b[38;5;124m\"\u001b[39m))\n\u001b[0;32m----> 7\u001b[0m \u001b[43mconvert_to_int\u001b[49m\u001b[43m(\u001b[49m\u001b[38;5;124;43m\"\u001b[39;49m\u001b[38;5;124;43m10.0\u001b[39;49m\u001b[38;5;124;43m\"\u001b[39;49m\u001b[43m)\u001b[49m\n",
      "Cell \u001b[0;32mIn[18], line 2\u001b[0m, in \u001b[0;36mconvert_to_int\u001b[0;34m(s)\u001b[0m\n\u001b[1;32m      1\u001b[0m \u001b[38;5;28;01mdef\u001b[39;00m\u001b[38;5;250m \u001b[39m\u001b[38;5;21mconvert_to_int\u001b[39m(s):\n\u001b[0;32m----> 2\u001b[0m     \u001b[38;5;28;01mreturn\u001b[39;00m \u001b[38;5;28;43mint\u001b[39;49m\u001b[43m(\u001b[49m\u001b[43ms\u001b[49m\u001b[43m)\u001b[49m\n",
      "\u001b[0;31mValueError\u001b[0m: invalid literal for int() with base 10: '10.0'"
     ]
    }
   ],
   "source": [
    "def convert_to_int(s):\n",
    "    return int(s)\n",
    "\n",
    "\n",
    "print(convert_to_int(\"100\"))\n",
    "\n",
    "convert_to_int(\"10.0\")"
   ]
  },
  {
   "cell_type": "markdown",
   "id": "6be3726c",
   "metadata": {
    "slideshow": {
     "slide_type": "slide"
    }
   },
   "source": [
    "Hogyan lehetünk biztosak abban, hogy egy stringet egész számként tudunk értelmezni?"
   ]
  },
  {
   "cell_type": "code",
   "execution_count": 19,
   "id": "312bc759",
   "metadata": {
    "slideshow": {
     "slide_type": "fragment"
    }
   },
   "outputs": [
    {
     "name": "stdout",
     "output_type": "stream",
     "text": [
      "123\n",
      "None\n",
      "None\n"
     ]
    }
   ],
   "source": [
    "def convert_to_int(string):\n",
    "    if string.isnumeric():\n",
    "        return int(string)\n",
    "    \n",
    "    return None\n",
    "\n",
    "\n",
    "print(convert_to_int(\"123\"))\n",
    "print(convert_to_int(\"45.67\"))\n",
    "print(convert_to_int(\"-2\"))"
   ]
  },
  {
   "cell_type": "markdown",
   "id": "d5b8da92",
   "metadata": {
    "slideshow": {
     "slide_type": "slide"
    }
   },
   "source": [
    "Mi lenne, ha nem mi próbálnánk kitalálni, hogy mi lenne a jó, hanem hagynánk, hogy a Python `int` konverziós függvénye *megpróbálja* a konverziót, aztán ha sikerül, akkor jó, ha meg nem, akkor meg kitalálunk valamit."
   ]
  },
  {
   "cell_type": "code",
   "execution_count": 20,
   "id": "3944e37e",
   "metadata": {
    "slideshow": {
     "slide_type": "fragment"
    }
   },
   "outputs": [
    {
     "name": "stdout",
     "output_type": "stream",
     "text": [
      "100\n",
      "Cannot convert 10.0 to an integer.\n",
      "None\n",
      "-3\n"
     ]
    }
   ],
   "source": [
    "def convert_to_int(s):\n",
    "    try:\n",
    "        return int(s)\n",
    "    except ValueError:\n",
    "        print(f\"Cannot convert {s} to an integer.\")\n",
    "    \n",
    "    return None\n",
    "\n",
    "\n",
    "print(convert_to_int(\"100\"))\n",
    "print(convert_to_int(\"10.0\"))\n",
    "print(convert_to_int(\"-3\"))"
   ]
  },
  {
   "cell_type": "markdown",
   "id": "8d3e4ecf",
   "metadata": {
    "slideshow": {
     "slide_type": "slide"
    }
   },
   "source": [
    "Később látni fogjuk, hogy nem csak egyfajta kivételt kell / lehet lekezelni, hanem akár többféle hibaok is előfordulhat. \n",
    "\n",
    "Egy tipikus ilyen helyzet a fájlbeolvasás, ahol lehet, hogy a \n",
    "* fájl nem található\n",
    "* nincs jogunk olvasni a fájlt\n",
    "* hibás a formátuma\n",
    "* nem dekódolható a szöveg, mert más karakterkészlet szerepel benne, mint amire számítunk\n",
    "* stb."
   ]
  },
  {
   "cell_type": "markdown",
   "id": "621aa81e",
   "metadata": {
    "slideshow": {
     "slide_type": "slide"
    }
   },
   "source": [
    "Az általános szintaxisa a kivételek kezelésének / elkapásának a `try - except` konstrukció:\n",
    "\n",
    "```python\n",
    "try:\n",
    "    try_something()\n",
    "except SomeError_1:\n",
    "    do_something_1()\n",
    "...\n",
    "except SomeError_n:\n",
    "    do_something_n()\n",
    "else:\n",
    "    do_this_when_there_was_no_exception()\n",
    "finally:\n",
    "    execute_anyway()\n",
    "```"
   ]
  },
  {
   "cell_type": "code",
   "execution_count": 21,
   "id": "e5928f62",
   "metadata": {
    "slideshow": {
     "slide_type": "subslide"
    }
   },
   "outputs": [],
   "source": [
    "def division(x, y):\n",
    "    try:\n",
    "        result = x / y\n",
    "    except ZeroDivisionError:\n",
    "        print(\"division by zero error!\")\n",
    "    else:\n",
    "        print(f\"The result is {result}.\")\n",
    "    finally:\n",
    "        print(\"This will execute anyway.\")"
   ]
  },
  {
   "cell_type": "code",
   "execution_count": 22,
   "id": "2dcafa8c",
   "metadata": {
    "slideshow": {
     "slide_type": "fragment"
    }
   },
   "outputs": [
    {
     "name": "stdout",
     "output_type": "stream",
     "text": [
      "The result is 0.5.\n",
      "This will execute anyway.\n"
     ]
    }
   ],
   "source": [
    "division(1, 2)"
   ]
  },
  {
   "cell_type": "code",
   "execution_count": 23,
   "id": "8c45da5c",
   "metadata": {
    "slideshow": {
     "slide_type": "fragment"
    }
   },
   "outputs": [
    {
     "name": "stdout",
     "output_type": "stream",
     "text": [
      "division by zero error!\n",
      "This will execute anyway.\n"
     ]
    }
   ],
   "source": [
    "division(1, 0)"
   ]
  }
 ],
 "metadata": {
  "celltoolbar": "Slideshow",
  "kernelspec": {
   "display_name": "Python 3.10",
   "language": "python",
   "name": "python310"
  },
  "language_info": {
   "codemirror_mode": {
    "name": "ipython",
    "version": 3
   },
   "file_extension": ".py",
   "mimetype": "text/x-python",
   "name": "python",
   "nbconvert_exporter": "python",
   "pygments_lexer": "ipython3",
   "version": "3.10.4"
  }
 },
 "nbformat": 4,
 "nbformat_minor": 5
}
