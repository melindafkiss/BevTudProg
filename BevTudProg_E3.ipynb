{
 "cells": [
  {
   "cell_type": "markdown",
   "id": "8359ffad",
   "metadata": {
    "slideshow": {
     "slide_type": "slide"
    }
   },
   "source": [
    "# Bevezetés a tudományos programozásba\n",
    "\n",
    "## 3. Előadás\n",
    "\n",
    "\n",
    "### 2025. szeptember 23."
   ]
  },
  {
   "cell_type": "markdown",
   "id": "9dd61176",
   "metadata": {
    "slideshow": {
     "slide_type": "slide"
    }
   },
   "source": [
    "# Függvények (functions)"
   ]
  },
  {
   "cell_type": "markdown",
   "id": "e9ed6be3",
   "metadata": {
    "slideshow": {
     "slide_type": "slide"
    }
   },
   "source": [
    "Valamilyen jól elkülöníthető, vagy ismétlődő kódrészletet gyakran függvényekbe szervezünk. Egy függvénynek vannak *paraméter*ei, az átadott *argumentum*okkal valamilyen műveleteket végzünk a függvény törzsében, majd visszatérünk 0, 1, vagy akár több *visszatérési érték*kel.\n",
    "\n",
    "Ez a függvény nem olyan, mint a matematikai értelemben vett függvény. Matematikában egy $x$ inputra az $f$ függvény az $y = f(x)$ értéket adja minden egyes alkalommal, ahol az $y$ output az $x$ input által egyértelműen meg van határozva. \n",
    "\n",
    "Programozási nyelvekben ez nem feltétlenül igaz. A függvény akár mutálhat, megváltoztathat függvényen kívüli változókat is, mellékhatásokat (side effect) idézve elő."
   ]
  },
  {
   "cell_type": "markdown",
   "id": "04cf4bed",
   "metadata": {
    "slideshow": {
     "slide_type": "slide"
    }
   },
   "source": [
    "## Függvény definíció\n",
    "\n",
    "Függvényeket a `def` kulcsszó segítségévek használhatunk:"
   ]
  },
  {
   "cell_type": "code",
   "execution_count": 1,
   "id": "7b5d9279",
   "metadata": {
    "slideshow": {
     "slide_type": "fragment"
    }
   },
   "outputs": [],
   "source": [
    "def simplest_possible_function():\n",
    "    pass"
   ]
  },
  {
   "cell_type": "code",
   "execution_count": 2,
   "id": "c0471689",
   "metadata": {
    "slideshow": {
     "slide_type": "fragment"
    }
   },
   "outputs": [],
   "source": [
    "simplest_possible_function()"
   ]
  },
  {
   "cell_type": "code",
   "execution_count": 3,
   "id": "9db58a48",
   "metadata": {
    "slideshow": {
     "slide_type": "fragment"
    }
   },
   "outputs": [
    {
     "name": "stdout",
     "output_type": "stream",
     "text": [
      "én egy nagyon okos függvény vagyok\n"
     ]
    }
   ],
   "source": [
    "def foo():\n",
    "    print(\"én egy nagyon okos függvény vagyok\")\n",
    "     \n",
    "foo() "
   ]
  },
  {
   "cell_type": "markdown",
   "id": "a49f5b3d",
   "metadata": {
    "slideshow": {
     "slide_type": "slide"
    }
   },
   "source": [
    "## Függvény argumentumok, paraméterek, return\n",
    "\n",
    "* Paraméterek = nevek a függvénydefinícióban.\n",
    "* Argumentumok = tényleges értékek, amelyeket meghíváskor átadunk a függvénynek\n",
    "* Return: visszaad egy értéket"
   ]
  },
  {
   "cell_type": "code",
   "execution_count": 4,
   "id": "4092e64f",
   "metadata": {
    "slideshow": {
     "slide_type": "fragment"
    }
   },
   "outputs": [],
   "source": [
    "# A függvény neve `f`, a függvény paraméterei `a` és `b`\n",
    "\n",
    "def f(a, b):\n",
    "    c = a + b\n",
    "    return 2 * c\n"
   ]
  },
  {
   "cell_type": "code",
   "execution_count": 5,
   "id": "9568f617",
   "metadata": {
    "slideshow": {
     "slide_type": "fragment"
    }
   },
   "outputs": [
    {
     "data": {
      "text/plain": [
       "6"
      ]
     },
     "execution_count": 5,
     "metadata": {},
     "output_type": "execute_result"
    }
   ],
   "source": [
    "# Az `f` függvényt az a=1 es b=2 argumentumokkal hívtuk meg\n",
    "y = f(1, 2)\n",
    "y"
   ]
  },
  {
   "cell_type": "code",
   "execution_count": 6,
   "id": "8a25f5ba",
   "metadata": {
    "slideshow": {
     "slide_type": "fragment"
    }
   },
   "outputs": [
    {
     "data": {
      "text/plain": [
       "6"
      ]
     },
     "execution_count": 6,
     "metadata": {},
     "output_type": "execute_result"
    }
   ],
   "source": [
    "def f(a, b):\n",
    "    return 2 * (a + b)\n",
    "\n",
    "f(1, 2)"
   ]
  },
  {
   "cell_type": "markdown",
   "id": "b29d26d9",
   "metadata": {
    "slideshow": {
     "slide_type": "slide"
    }
   },
   "source": [
    "### Mit is jelent, hogy egy függvényt meghívunk valamilyen argumentumokkal?\n",
    " - Létrejön egy lokális változó a paraméter névvel és az argumentumra fog mutatni. \n",
    " - Tényleg az átadott objektumra fog mutatni és nem csak egy másolatra!"
   ]
  },
  {
   "cell_type": "code",
   "execution_count": 7,
   "id": "31cf1362",
   "metadata": {
    "slideshow": {
     "slide_type": "slide"
    }
   },
   "outputs": [
    {
     "data": {
      "text/plain": [
       "5"
      ]
     },
     "execution_count": 7,
     "metadata": {},
     "output_type": "execute_result"
    }
   ],
   "source": [
    "# Egy függvény törzsében több return utasítas is lehet\n",
    "\n",
    "def calculate_absolute_value(x):\n",
    "    if x < 0:\n",
    "        return -x\n",
    "    \n",
    "    return x\n",
    "\n",
    "calculate_absolute_value(-5)"
   ]
  },
  {
   "cell_type": "code",
   "execution_count": 8,
   "id": "46ac6a4e",
   "metadata": {
    "slideshow": {
     "slide_type": "slide"
    }
   },
   "outputs": [
    {
     "data": {
      "text/plain": [
       "False"
      ]
     },
     "execution_count": 8,
     "metadata": {},
     "output_type": "execute_result"
    }
   ],
   "source": [
    "def is_leap_year(year):\n",
    "    if year % 4 != 0:\n",
    "        return False\n",
    "    \n",
    "    if year % 100 != 0:\n",
    "        return True\n",
    "    \n",
    "    return year % 400 == 0\n",
    "\n",
    "\n",
    "is_leap_year(2025)"
   ]
  },
  {
   "cell_type": "code",
   "execution_count": 9,
   "id": "598c1d62",
   "metadata": {
    "slideshow": {
     "slide_type": "slide"
    }
   },
   "outputs": [
    {
     "name": "stdout",
     "output_type": "stream",
     "text": [
      "Hello!\n"
     ]
    }
   ],
   "source": [
    "# nulla darab input argumentum, nulla darab output, \n",
    "#de ilyenkor is visszatérünk valamivel\n",
    "\n",
    "def greet():\n",
    "    print(\"Hello!\")\n",
    "\n",
    "\n",
    "greet()"
   ]
  },
  {
   "cell_type": "code",
   "execution_count": 10,
   "id": "33120d74",
   "metadata": {
    "slideshow": {
     "slide_type": "fragment"
    }
   },
   "outputs": [
    {
     "name": "stdout",
     "output_type": "stream",
     "text": [
      "Hello!\n",
      "None\n",
      "<class 'NoneType'>\n"
     ]
    }
   ],
   "source": [
    "result = greet()\n",
    "\n",
    "print(result)\n",
    "\n",
    "print(type(None))"
   ]
  },
  {
   "cell_type": "code",
   "execution_count": 11,
   "id": "414d71f1",
   "metadata": {
    "slideshow": {
     "slide_type": "slide"
    }
   },
   "outputs": [
    {
     "name": "stdout",
     "output_type": "stream",
     "text": [
      "2.0\n",
      "None\n"
     ]
    }
   ],
   "source": [
    "def safe_division(n, m):\n",
    "    if m == 0:\n",
    "        return None\n",
    "    \n",
    "    return n / m\n",
    "\n",
    "\n",
    "print(safe_division(10, 5))\n",
    "\n",
    "print(safe_division(10, 0))"
   ]
  },
  {
   "cell_type": "markdown",
   "id": "a95ef27a",
   "metadata": {
    "slideshow": {
     "slide_type": "slide"
    }
   },
   "source": [
    "## Variable scope (változók érvényességi köre)\n",
    "\n",
    "Az a programrész, ahol egy változónév létezik és elérhető (láthatóság)\n",
    "\n",
    "**LEGB szabály**\n",
    "\n",
    "* Lokális (L) → a jelenlegi függvényben létrehozott változók.\n",
    "* Enclosing (E) → a külső függvényekből származó változók (beágyazott függvényeknél).\n",
    "* Globális (G) → a fájl/modul legfelső szintjén definiált változók.\n",
    "* Beépített (B) → a Python által alapból biztosított nevek (len, print, int, …)."
   ]
  },
  {
   "cell_type": "code",
   "execution_count": null,
   "id": "80d1a32a",
   "metadata": {
    "slideshow": {
     "slide_type": "subslide"
    }
   },
   "outputs": [],
   "source": [
    "def f():\n",
    "    x = 10    # csak az f() belsejében látható\n",
    "    print(x)\n",
    "\n",
    "f()\n",
    "print(x)  # ❌ NameError, x csak az f()-ben létezik\n"
   ]
  },
  {
   "cell_type": "code",
   "execution_count": null,
   "id": "6725e903",
   "metadata": {
    "slideshow": {
     "slide_type": "subslide"
    }
   },
   "outputs": [],
   "source": [
    "def outer():\n",
    "    y = 20   # outer()-ben létezik\n",
    "    def inner():\n",
    "        print(y)   # inner() “látja” az outer() változóját\n",
    "    inner()\n",
    "\n",
    "outer()\n"
   ]
  },
  {
   "cell_type": "code",
   "execution_count": null,
   "id": "12d9c934",
   "metadata": {
    "slideshow": {
     "slide_type": "subslide"
    }
   },
   "outputs": [],
   "source": [
    "z = 30   # globális változó\n",
    "\n",
    "def f():\n",
    "    print(z)   # eléri a globális z-t\n",
    "\n",
    "f()\n"
   ]
  },
  {
   "cell_type": "code",
   "execution_count": null,
   "id": "8126283c",
   "metadata": {
    "slideshow": {
     "slide_type": "subslide"
    }
   },
   "outputs": [],
   "source": [
    "print(len([1, 2, 3]))   # a len a beépített hatókörből érkezik"
   ]
  },
  {
   "cell_type": "code",
   "execution_count": null,
   "id": "d2b3fb78",
   "metadata": {
    "slideshow": {
     "slide_type": "subslide"
    }
   },
   "outputs": [],
   "source": [
    "import builtins\n",
    "print(dir(builtins))"
   ]
  },
  {
   "cell_type": "code",
   "execution_count": null,
   "id": "15cf14f8",
   "metadata": {
    "slideshow": {
     "slide_type": "subslide"
    }
   },
   "outputs": [],
   "source": [
    "x = 100\n",
    "\n",
    "def f():\n",
    "    x = 5   # árnyékolja a globális x-et\n",
    "    print(x)\n",
    "\n",
    "f()        \n",
    "print(x)\n"
   ]
  },
  {
   "cell_type": "markdown",
   "id": "58eab3df",
   "metadata": {
    "slideshow": {
     "slide_type": "subslide"
    }
   },
   "source": [
    "```python\n",
    "x = 10\n",
    "\n",
    "def f():\n",
    "    print(x)\n",
    "    x = 20\n",
    "\n",
    "f()\n",
    "\n",
    "```\n",
    "\n",
    "Mit ír ki? \n",
    "\n",
    "A) 10\n",
    "\n",
    "B) 20"
   ]
  },
  {
   "cell_type": "code",
   "execution_count": null,
   "id": "0b25e846",
   "metadata": {
    "slideshow": {
     "slide_type": "subslide"
    }
   },
   "outputs": [],
   "source": [
    "x = 10\n",
    "\n",
    "def f():\n",
    "    print(x)\n",
    "    x = 20\n",
    "\n",
    "f()"
   ]
  },
  {
   "cell_type": "markdown",
   "id": "9c8fa255",
   "metadata": {
    "slideshow": {
     "slide_type": "slide"
    }
   },
   "source": [
    "## Alapértelmezett, pozíció szerinti argumentum \n",
    "\n",
    "positional arguments, default arguments (keyword arguments)\n",
    "\n",
    "- Az argumentumoknak lehet alapértelmezett értéke.\n",
    "- Meg lehet hívni a függvényt a paraméter neve alapján is\n",
    "- Először kell megadni azokat az argumentumokat, amiknek nincs alapértelmezett értéke."
   ]
  },
  {
   "cell_type": "code",
   "execution_count": 12,
   "id": "4568bbda",
   "metadata": {
    "slideshow": {
     "slide_type": "subslide"
    }
   },
   "outputs": [],
   "source": [
    "def f(a, b, c):\n",
    "    return a + 2*b + 3*c"
   ]
  },
  {
   "cell_type": "code",
   "execution_count": 13,
   "id": "2506500a",
   "metadata": {
    "slideshow": {
     "slide_type": "fragment"
    }
   },
   "outputs": [
    {
     "data": {
      "text/plain": [
       "14"
      ]
     },
     "execution_count": 13,
     "metadata": {},
     "output_type": "execute_result"
    }
   ],
   "source": [
    "f(1, 2, 3)"
   ]
  },
  {
   "cell_type": "code",
   "execution_count": 14,
   "id": "2c2e95c0",
   "metadata": {
    "slideshow": {
     "slide_type": "fragment"
    }
   },
   "outputs": [
    {
     "data": {
      "text/plain": [
       "14"
      ]
     },
     "execution_count": 14,
     "metadata": {},
     "output_type": "execute_result"
    }
   ],
   "source": [
    "f(a=1, c=3, b=2)"
   ]
  },
  {
   "cell_type": "code",
   "execution_count": 15,
   "id": "865b908e",
   "metadata": {
    "slideshow": {
     "slide_type": "fragment"
    }
   },
   "outputs": [
    {
     "ename": "TypeError",
     "evalue": "f() missing 1 required positional argument: 'c'",
     "output_type": "error",
     "traceback": [
      "\u001b[0;31m---------------------------------------------------------------------------\u001b[0m",
      "\u001b[0;31mTypeError\u001b[0m                                 Traceback (most recent call last)",
      "Cell \u001b[0;32mIn[15], line 1\u001b[0m\n\u001b[0;32m----> 1\u001b[0m \u001b[43mf\u001b[49m\u001b[43m(\u001b[49m\u001b[38;5;241;43m1\u001b[39;49m\u001b[43m,\u001b[49m\u001b[43m \u001b[49m\u001b[38;5;241;43m2\u001b[39;49m\u001b[43m)\u001b[49m\n",
      "\u001b[0;31mTypeError\u001b[0m: f() missing 1 required positional argument: 'c'"
     ]
    }
   ],
   "source": [
    "f(1, 2)"
   ]
  },
  {
   "cell_type": "code",
   "execution_count": 16,
   "id": "d4ca0b34",
   "metadata": {
    "slideshow": {
     "slide_type": "slide"
    }
   },
   "outputs": [],
   "source": [
    "# A `c` paraméternek van alapértelmezett (default) értéke\n",
    "\n",
    "def f(a, b, c=0):\n",
    "    return a + 2*b + 3*c"
   ]
  },
  {
   "cell_type": "code",
   "execution_count": 17,
   "id": "1a7ac65d",
   "metadata": {
    "slideshow": {
     "slide_type": "fragment"
    }
   },
   "outputs": [
    {
     "data": {
      "text/plain": [
       "14"
      ]
     },
     "execution_count": 17,
     "metadata": {},
     "output_type": "execute_result"
    }
   ],
   "source": [
    "f(1, 2, 3)"
   ]
  },
  {
   "cell_type": "code",
   "execution_count": 18,
   "id": "2982ef4e",
   "metadata": {
    "slideshow": {
     "slide_type": "fragment"
    }
   },
   "outputs": [
    {
     "data": {
      "text/plain": [
       "5"
      ]
     },
     "execution_count": 18,
     "metadata": {},
     "output_type": "execute_result"
    }
   ],
   "source": [
    "f(1, 2)"
   ]
  },
  {
   "cell_type": "code",
   "execution_count": 19,
   "id": "08ca9382",
   "metadata": {
    "slideshow": {
     "slide_type": "fragment"
    }
   },
   "outputs": [
    {
     "ename": "SyntaxError",
     "evalue": "positional argument follows keyword argument (503170100.py, line 4)",
     "output_type": "error",
     "traceback": [
      "\u001b[0;36m  Cell \u001b[0;32mIn[19], line 4\u001b[0;36m\u001b[0m\n\u001b[0;31m    f(a=1, 2)\u001b[0m\n\u001b[0m            ^\u001b[0m\n\u001b[0;31mSyntaxError\u001b[0m\u001b[0;31m:\u001b[0m positional argument follows keyword argument\n"
     ]
    }
   ],
   "source": [
    "# Ez nem megy, mert név szerint hivatkozott argumentum után \n",
    "#nem állhat pozíció szerinti argumentum\n",
    "\n",
    "f(a=1, 2)"
   ]
  },
  {
   "cell_type": "markdown",
   "id": "f7334697",
   "metadata": {
    "slideshow": {
     "slide_type": "slide"
    }
   },
   "source": [
    "Emiatt rengeteg argumentumod lehet úgy is, hogy ez nem nehezíti meg a függvény használatát. Sok könyvtárban találunk olyan függvényeket, amiknek rengeteg argumentumunk van."
   ]
  },
  {
   "cell_type": "markdown",
   "id": "25344c9a",
   "metadata": {
    "slideshow": {
     "slide_type": "fragment"
    }
   },
   "source": [
    "Például a következő függvényt a `pandas` könyvtárban találjuk:\n",
    "\n",
    "~~~python\n",
    " pandas.read_csv(filepath_or_buffer, sep=', ', delimiter=None, header='infer', names=None, index_col=None, usecols=None, squeeze=False, prefix=None, mangle_dupe_cols=True, dtype=None, engine=None, converters=None, true_values=None, false_values=None, skipinitialspace=False, skiprows=None, nrows=None, na_values=None, keep_default_na=True, na_filter=True, verbose=False, skip_blank_lines=True, parse_dates=False, infer_datetime_format=False, keep_date_col=False, date_parser=None, dayfirst=False, iterator=False, chunksize=None, compression='infer', thousands=None, decimal=b'.', lineterminator=None, quotechar='\"', quoting=0, escapechar=None, comment=None, encoding=None, dialect=None, tupleize_cols=False, error_bad_lines=True, warn_bad_lines=True, skipfooter=0, skip_footer=0, doublequote=True, delim_whitespace=False, as_recarray=False, compact_ints=False, use_unsigned=False, low_memory=True, buffer_lines=None, memory_map=False, float_precision=None)\n",
    " ~~~"
   ]
  },
  {
   "cell_type": "markdown",
   "id": "aa0a8b1a",
   "metadata": {
    "slideshow": {
     "slide_type": "slide"
    }
   },
   "source": [
    "Azt is ki lehet kényszeríteni, hogy egy függvényt bizonyos argumentumait csak név szerint lehessen átadni. Megfordítva, el lehet érni, hogy bizonyos argumentumokat csak pozíció alapján lehessen átadni a függvénynek."
   ]
  },
  {
   "cell_type": "code",
   "execution_count": 20,
   "id": "d23d5f2f",
   "metadata": {
    "slideshow": {
     "slide_type": "fragment"
    }
   },
   "outputs": [],
   "source": [
    "def f(a, b, *, c):\n",
    "    return a + b + c"
   ]
  },
  {
   "cell_type": "code",
   "execution_count": 21,
   "id": "c51f9711",
   "metadata": {
    "slideshow": {
     "slide_type": "fragment"
    }
   },
   "outputs": [
    {
     "ename": "TypeError",
     "evalue": "f() takes 2 positional arguments but 3 were given",
     "output_type": "error",
     "traceback": [
      "\u001b[0;31m---------------------------------------------------------------------------\u001b[0m",
      "\u001b[0;31mTypeError\u001b[0m                                 Traceback (most recent call last)",
      "Cell \u001b[0;32mIn[21], line 1\u001b[0m\n\u001b[0;32m----> 1\u001b[0m \u001b[43mf\u001b[49m\u001b[43m(\u001b[49m\u001b[38;5;241;43m1\u001b[39;49m\u001b[43m,\u001b[49m\u001b[43m \u001b[49m\u001b[38;5;241;43m2\u001b[39;49m\u001b[43m,\u001b[49m\u001b[43m \u001b[49m\u001b[38;5;241;43m3\u001b[39;49m\u001b[43m)\u001b[49m\n",
      "\u001b[0;31mTypeError\u001b[0m: f() takes 2 positional arguments but 3 were given"
     ]
    }
   ],
   "source": [
    "f(1, 2, 3)"
   ]
  },
  {
   "cell_type": "code",
   "execution_count": 22,
   "id": "0a8f1019",
   "metadata": {
    "slideshow": {
     "slide_type": "fragment"
    }
   },
   "outputs": [
    {
     "data": {
      "text/plain": [
       "6"
      ]
     },
     "execution_count": 22,
     "metadata": {},
     "output_type": "execute_result"
    }
   ],
   "source": [
    "f(1, 2, c = 3)"
   ]
  },
  {
   "cell_type": "code",
   "execution_count": 23,
   "id": "5358eaa4",
   "metadata": {
    "slideshow": {
     "slide_type": "slide"
    }
   },
   "outputs": [],
   "source": [
    "def g(a, /, b, c):\n",
    "    return a + b + c"
   ]
  },
  {
   "cell_type": "code",
   "execution_count": 24,
   "id": "8806de1b",
   "metadata": {
    "slideshow": {
     "slide_type": "fragment"
    }
   },
   "outputs": [
    {
     "ename": "TypeError",
     "evalue": "g() got some positional-only arguments passed as keyword arguments: 'a'",
     "output_type": "error",
     "traceback": [
      "\u001b[0;31m---------------------------------------------------------------------------\u001b[0m",
      "\u001b[0;31mTypeError\u001b[0m                                 Traceback (most recent call last)",
      "Cell \u001b[0;32mIn[24], line 1\u001b[0m\n\u001b[0;32m----> 1\u001b[0m \u001b[43mg\u001b[49m\u001b[43m(\u001b[49m\u001b[43ma\u001b[49m\u001b[38;5;241;43m=\u001b[39;49m\u001b[38;5;241;43m1\u001b[39;49m\u001b[43m,\u001b[49m\u001b[43m \u001b[49m\u001b[43mb\u001b[49m\u001b[38;5;241;43m=\u001b[39;49m\u001b[38;5;241;43m2\u001b[39;49m\u001b[43m,\u001b[49m\u001b[43m \u001b[49m\u001b[43mc\u001b[49m\u001b[38;5;241;43m=\u001b[39;49m\u001b[38;5;241;43m3\u001b[39;49m\u001b[43m)\u001b[49m\n",
      "\u001b[0;31mTypeError\u001b[0m: g() got some positional-only arguments passed as keyword arguments: 'a'"
     ]
    }
   ],
   "source": [
    "g(a=1, b=2, c=3)"
   ]
  },
  {
   "cell_type": "markdown",
   "id": "cb8962aa",
   "metadata": {
    "slideshow": {
     "slide_type": "slide"
    }
   },
   "source": [
    "## Rekurzió (recursion)"
   ]
  },
  {
   "cell_type": "code",
   "execution_count": 25,
   "id": "3ba886cc",
   "metadata": {
    "slideshow": {
     "slide_type": "fragment"
    }
   },
   "outputs": [],
   "source": [
    "# Egy függvény saját magát is meghívhatja a törzsében. \n",
    "\n",
    "# x ** k = x * (x ** (k - 1))\n",
    "def calc_integer_power(x, k):\n",
    "    if k == 0:\n",
    "        return 1\n",
    "    \n",
    "    return x * calc_integer_power(x, k - 1)"
   ]
  },
  {
   "cell_type": "code",
   "execution_count": 26,
   "id": "7e5261d4",
   "metadata": {
    "slideshow": {
     "slide_type": "fragment"
    }
   },
   "outputs": [
    {
     "data": {
      "text/plain": [
       "16"
      ]
     },
     "execution_count": 26,
     "metadata": {},
     "output_type": "execute_result"
    }
   ],
   "source": [
    "calc_integer_power(2, 4)"
   ]
  },
  {
   "cell_type": "code",
   "execution_count": null,
   "id": "029b49d6",
   "metadata": {
    "slideshow": {
     "slide_type": "subslide"
    }
   },
   "outputs": [],
   "source": [
    "def endless_recursion():\n",
    "    return endless_recursion()\n",
    "\n",
    "\n",
    "endless_recursion()"
   ]
  },
  {
   "cell_type": "code",
   "execution_count": 27,
   "id": "15708af1",
   "metadata": {
    "slideshow": {
     "slide_type": "subslide"
    }
   },
   "outputs": [],
   "source": [
    "# n! = 1 * 2 * 3 * ... * n\n",
    "\n",
    "def factorial(n):\n",
    "    if n == 0 or n == 1:\n",
    "        return 1\n",
    "    \n",
    "    return n * factorial(n - 1)"
   ]
  },
  {
   "cell_type": "markdown",
   "id": "0601cbd9",
   "metadata": {
    "slideshow": {
     "slide_type": "fragment"
    }
   },
   "source": [
    "```\n",
    "factorial(5) \n",
    "    = 5 * factorial(4)\n",
    "    = 5 * (4 * factorial(3))\n",
    "    = 5 * (4 * (3 * factorial(2)))\n",
    "    = 5 * (4 * (3 * (2 * factorial(1))))\n",
    "    = 5 * (4 * (3 * (2 * (1)))))\n",
    "    = 120\n",
    "```"
   ]
  },
  {
   "cell_type": "code",
   "execution_count": 28,
   "id": "21961248",
   "metadata": {
    "slideshow": {
     "slide_type": "fragment"
    }
   },
   "outputs": [
    {
     "data": {
      "text/plain": [
       "120"
      ]
     },
     "execution_count": 28,
     "metadata": {},
     "output_type": "execute_result"
    }
   ],
   "source": [
    "factorial(5)"
   ]
  },
  {
   "cell_type": "markdown",
   "id": "861d7ef3",
   "metadata": {
    "slideshow": {
     "slide_type": "slide"
    }
   },
   "source": [
    "## Névtelen függvények (anonymous functions, lambda-functions)"
   ]
  },
  {
   "cell_type": "markdown",
   "id": "edc6d101",
   "metadata": {
    "slideshow": {
     "slide_type": "fragment"
    }
   },
   "source": [
    "Vannak olyan esetek, amikor egy függvénynek nem szükséges nevet adnunk. Csak az érdekel minket, hogy mit mire képez le. Csak egyszerű esetekben lehet használni, a függvény törzse egyetlen kifejezésből állhat."
   ]
  },
  {
   "cell_type": "markdown",
   "id": "f6c89211",
   "metadata": {
    "slideshow": {
     "slide_type": "fragment"
    }
   },
   "source": [
    "Például az $x\\mapsto 2x$ hozzárendelésnek megfelelő névtelen függvény Pythonban így néz ki:\n",
    "```python\n",
    "lambda x: 2*x\n",
    "```"
   ]
  },
  {
   "cell_type": "code",
   "execution_count": 36,
   "id": "6492d4b6",
   "metadata": {
    "slideshow": {
     "slide_type": "fragment"
    }
   },
   "outputs": [
    {
     "data": {
      "text/plain": [
       "20"
      ]
     },
     "execution_count": 36,
     "metadata": {},
     "output_type": "execute_result"
    }
   ],
   "source": [
    "(lambda x: 2 * x)(10)"
   ]
  },
  {
   "cell_type": "markdown",
   "id": "8952286a",
   "metadata": {
    "slideshow": {
     "slide_type": "slide"
    }
   },
   "source": [
    "A függvények Pythonban elsőrendű állampolgároknak minősülnek (first-class citizens), azaz ugyanolyan jogokkal rendelkeznek, mint akármilyen más nyelvi konstrukció. Listába tehetők, változók értékeinek adhatók, függvény paramétere lehet egy függvény, függvény visszatérési értéke is lehet egy függvény, stb."
   ]
  },
  {
   "cell_type": "code",
   "execution_count": 37,
   "id": "9fd787fa",
   "metadata": {
    "slideshow": {
     "slide_type": "fragment"
    }
   },
   "outputs": [
    {
     "name": "stdout",
     "output_type": "stream",
     "text": [
      "<class 'function'>\n",
      "50\n"
     ]
    }
   ],
   "source": [
    "def create_multiplier(k):\n",
    "    return lambda x: k * x\n",
    "\n",
    "\n",
    "ten_times = create_multiplier(10)\n",
    "\n",
    "\n",
    "print(type(ten_times))\n",
    "print(ten_times(5))"
   ]
  },
  {
   "cell_type": "code",
   "execution_count": 38,
   "id": "3b616f49",
   "metadata": {
    "slideshow": {
     "slide_type": "subslide"
    }
   },
   "outputs": [
    {
     "name": "stdout",
     "output_type": "stream",
     "text": [
      "<class 'function'>\n",
      "50\n"
     ]
    }
   ],
   "source": [
    "# lambda függvény helyett egy \n",
    "#hagyományosan definiált függvényt is visszaadhatunk\n",
    "\n",
    "def create_multiplier(k):\n",
    "    def inner(x):\n",
    "        return k * x\n",
    "    \n",
    "    return inner\n",
    "\n",
    "\n",
    "ten_times = create_multiplier(10)\n",
    "\n",
    "\n",
    "print(type(ten_times))\n",
    "print(ten_times(5))"
   ]
  },
  {
   "cell_type": "markdown",
   "id": "a0dab6f0",
   "metadata": {
    "slideshow": {
     "slide_type": "slide"
    }
   },
   "source": [
    "# A Python beépített adatszerkezetei (Python collections)"
   ]
  },
  {
   "cell_type": "markdown",
   "id": "48a456cf",
   "metadata": {
    "slideshow": {
     "slide_type": "slide"
    }
   },
   "source": [
    "# Lista (list)"
   ]
  },
  {
   "cell_type": "markdown",
   "id": "ab1ec964",
   "metadata": {
    "slideshow": {
     "slide_type": "fragment"
    }
   },
   "source": [
    "A Python egyik legalapvetőbb adatszerkezete a lista. \n",
    "\n",
    "Egy Python lista egy lineáris adatszerkezet, bármilyen típusú elemekből állhat. A legtöbb esetben azért jellemzően mégis csak azonos típusú elemek kerülnek egy listába. Az elemeket index alapján is el lehet érni, ahol az elérés sebessége gyors. \n",
    "\n",
    "Később algoritmuselméleti, bonyolultságelméleti órákon tanulni fogtok algoritmusok műveletigényéről, egyelőre legyen elég annyi, hogy egy tetszőleges lista tetszőleges elemének index alapján történő elérése gyors, konstans idejű, nem függ a lista hosszától.\n",
    "\n",
    "Listákra már láttunk példát korábban.\n",
    "```python\n",
    "[\"alma\", \"körte\", \"meggy\"]"
   ]
  },
  {
   "cell_type": "markdown",
   "id": "0dde5402",
   "metadata": {
    "slideshow": {
     "slide_type": "fragment"
    }
   },
   "source": [
    "A lista típusa `list`, ami egyben egy függvény is, amely listát tud konstruálni egy másik adatszerkezetből. Ha az elemek adottak, akkor vesszővel elválasztva soroljuk fel a lista elemeit, melyet szögletes zárójelek határolnak. Az utolsó elem után tett vessző opcionális."
   ]
  },
  {
   "cell_type": "code",
   "execution_count": 39,
   "id": "c044bc04",
   "metadata": {
    "slideshow": {
     "slide_type": "slide"
    }
   },
   "outputs": [
    {
     "data": {
      "text/plain": [
       "[1, 'Hello', int]"
      ]
     },
     "execution_count": 39,
     "metadata": {},
     "output_type": "execute_result"
    }
   ],
   "source": [
    "lst = [1, \"Hello\", int]\n",
    "\n",
    "lst"
   ]
  },
  {
   "cell_type": "code",
   "execution_count": 40,
   "id": "f549b128",
   "metadata": {
    "slideshow": {
     "slide_type": "fragment"
    }
   },
   "outputs": [
    {
     "data": {
      "text/plain": [
       "False"
      ]
     },
     "execution_count": 40,
     "metadata": {},
     "output_type": "execute_result"
    }
   ],
   "source": [
    "2 in lst"
   ]
  },
  {
   "cell_type": "code",
   "execution_count": 41,
   "id": "4e5ed94b",
   "metadata": {
    "slideshow": {
     "slide_type": "fragment"
    }
   },
   "outputs": [
    {
     "data": {
      "text/plain": [
       "True"
      ]
     },
     "execution_count": 41,
     "metadata": {},
     "output_type": "execute_result"
    }
   ],
   "source": [
    "\"Hello\" in lst"
   ]
  },
  {
   "cell_type": "code",
   "execution_count": 42,
   "id": "4f2eae8f",
   "metadata": {
    "slideshow": {
     "slide_type": "fragment"
    }
   },
   "outputs": [
    {
     "data": {
      "text/plain": [
       "3"
      ]
     },
     "execution_count": 42,
     "metadata": {},
     "output_type": "execute_result"
    }
   ],
   "source": [
    "len(lst)"
   ]
  },
  {
   "cell_type": "code",
   "execution_count": 43,
   "id": "040409bb",
   "metadata": {
    "slideshow": {
     "slide_type": "fragment"
    }
   },
   "outputs": [
    {
     "data": {
      "text/plain": [
       "True"
      ]
     },
     "execution_count": 43,
     "metadata": {},
     "output_type": "execute_result"
    }
   ],
   "source": [
    "\"World\" not in lst"
   ]
  },
  {
   "cell_type": "code",
   "execution_count": 44,
   "id": "6febe564",
   "metadata": {
    "slideshow": {
     "slide_type": "fragment"
    }
   },
   "outputs": [
    {
     "name": "stdout",
     "output_type": "stream",
     "text": [
      "11\n",
      "20\n",
      "5\n"
     ]
    }
   ],
   "source": [
    "functions = [lambda x: x + 1, lambda x: 2*x, lambda y: y // 2]\n",
    "\n",
    "\n",
    "for f in functions:\n",
    "    print(f(10))"
   ]
  },
  {
   "cell_type": "markdown",
   "id": "fed9f4ad",
   "metadata": {
    "slideshow": {
     "slide_type": "slide"
    }
   },
   "source": [
    "A lista **mutable**, azaz módosíthatók az elemei, ettől még ugyanarról a listáról beszélünk, ugyanaz az objektum. Emlékszünk, a string adatszerkezet **immutable**, azaz karakterláncot nem lehet módosítani, illetve a rajta definiált metódusok egy új stringgel térnek vissza."
   ]
  },
  {
   "cell_type": "code",
   "execution_count": 45,
   "id": "6920607b",
   "metadata": {
    "slideshow": {
     "slide_type": "fragment"
    }
   },
   "outputs": [
    {
     "name": "stdout",
     "output_type": "stream",
     "text": [
      "139713170104960\n",
      "139713170104960\n",
      "[100, 'Hello', <class 'int'>]\n",
      "139713170104960\n",
      "[100, 'Hello', <class 'int'>, 0]\n"
     ]
    }
   ],
   "source": [
    "print(id(lst))\n",
    "\n",
    "lst[0] = 100\n",
    "\n",
    "print(id(lst))\n",
    "print(lst)\n",
    "\n",
    "lst.append(0)\n",
    "print(id(lst))\n",
    "print(lst)"
   ]
  },
  {
   "cell_type": "code",
   "execution_count": 46,
   "id": "896adfaf",
   "metadata": {
    "slideshow": {
     "slide_type": "slide"
    }
   },
   "outputs": [
    {
     "data": {
      "text/plain": [
       "['Hello', 'Hello', 'Hello', 'Hello']"
      ]
     },
     "execution_count": 46,
     "metadata": {},
     "output_type": "execute_result"
    }
   ],
   "source": [
    "[\"Hello\"] * 4"
   ]
  },
  {
   "cell_type": "code",
   "execution_count": 47,
   "id": "8cd97003",
   "metadata": {
    "slideshow": {
     "slide_type": "fragment"
    }
   },
   "outputs": [
    {
     "data": {
      "text/plain": [
       "[1, 2, 3, 11, 12, 13, 14, 15]"
      ]
     },
     "execution_count": 47,
     "metadata": {},
     "output_type": "execute_result"
    }
   ],
   "source": [
    "xs1 = [1, 2, 3]\n",
    "\n",
    "xs2 = [11, 12, 13, 14, 15]\n",
    "\n",
    "xs1 + xs2"
   ]
  },
  {
   "cell_type": "markdown",
   "id": "dc5d101d",
   "metadata": {
    "slideshow": {
     "slide_type": "slide"
    }
   },
   "source": [
    "A lista Pythonban nem olyan, mint mondjuk egy tömb (array) C-ben. Egy tömb azonos típusú elemeket tartalmaz, míg egy Python listában bármi lehet. Ezenkívül egy tömb mérete a keletkezésekor eldől és az nem változik, ezzel szemben egy Python lista mérete futás közben dinamikusan tud változni (elemeket vehetünk hozzá, illetve elemeket törölhetünk belőle).\n",
    "\n",
    "Ennek az adatszerkezetnek a neve **dinamikus tömb** (dynamic array), vagy **dinamikusan átméretezhető tömb** (resizeable array), ha esetleg egy későbbi algoritmuselméleti órán találkoznátok vele, akkor a Python lista éppen ilyen."
   ]
  },
  {
   "cell_type": "code",
   "execution_count": 48,
   "id": "7aaafd81",
   "metadata": {
    "slideshow": {
     "slide_type": "subslide"
    }
   },
   "outputs": [
    {
     "name": "stdout",
     "output_type": "stream",
     "text": [
      "['__add__', '__class__', '__class_getitem__', '__contains__', '__delattr__', '__delitem__', '__dir__', '__doc__', '__eq__', '__format__', '__ge__', '__getattribute__', '__getitem__', '__gt__', '__hash__', '__iadd__', '__imul__', '__init__', '__init_subclass__', '__iter__', '__le__', '__len__', '__lt__', '__mul__', '__ne__', '__new__', '__reduce__', '__reduce_ex__', '__repr__', '__reversed__', '__rmul__', '__setattr__', '__setitem__', '__sizeof__', '__str__', '__subclasshook__', 'append', 'clear', 'copy', 'count', 'extend', 'index', 'insert', 'pop', 'remove', 'reverse', 'sort']\n"
     ]
    }
   ],
   "source": [
    "print(dir(list))"
   ]
  },
  {
   "cell_type": "markdown",
   "id": "3883e010",
   "metadata": {
    "slideshow": {
     "slide_type": "subslide"
    }
   },
   "source": [
    "Listán is többféle metódus értelmezett, a két legfontosabb az\n",
    "\n",
    "* `append`, ami hozzávesz a listához egy elemet\n",
    "* `pop`, ami törli a lista megadott indexű elemét\n",
    "\n",
    "```python\n",
    "xs = [1, 2, 3]\n",
    "xs.append(200)   # -> xs = [1, 2, 3, 200]\n",
    "xs.pop(-1)       # -> xs = [1, 2, 3]\n",
    "```"
   ]
  },
  {
   "cell_type": "code",
   "execution_count": 49,
   "id": "13a1376c",
   "metadata": {
    "slideshow": {
     "slide_type": "slide"
    }
   },
   "outputs": [
    {
     "name": "stdout",
     "output_type": "stream",
     "text": [
      "10\n",
      "15\n",
      "20\n"
     ]
    }
   ],
   "source": [
    "lst = [10, 15, 20]\n",
    "\n",
    "for x in lst:\n",
    "    print(x)"
   ]
  },
  {
   "cell_type": "code",
   "execution_count": 50,
   "id": "3a87779e",
   "metadata": {
    "slideshow": {
     "slide_type": "subslide"
    }
   },
   "outputs": [
    {
     "name": "stdout",
     "output_type": "stream",
     "text": [
      "0 10\n",
      "1 15\n",
      "2 20\n"
     ]
    }
   ],
   "source": [
    "# Gyakran szükségünk lehet az elemre ÉS annak indexére is.\n",
    "\n",
    "for ix, x in enumerate(lst):\n",
    "    print(ix, x)"
   ]
  },
  {
   "cell_type": "code",
   "execution_count": 51,
   "id": "27c04bc3",
   "metadata": {
    "slideshow": {
     "slide_type": "fragment"
    }
   },
   "outputs": [
    {
     "name": "stdout",
     "output_type": "stream",
     "text": [
      "Element at index 0 equals to 10.\n",
      "Element at index 1 equals to 15.\n",
      "Element at index 2 equals to 20.\n"
     ]
    }
   ],
   "source": [
    "# String formatting\n",
    "\n",
    "for ix, x in enumerate(lst):\n",
    "    print(f\"Element at index {ix} equals to {x}.\")"
   ]
  },
  {
   "cell_type": "code",
   "execution_count": 52,
   "id": "9c7d4380",
   "metadata": {
    "slideshow": {
     "slide_type": "subslide"
    }
   },
   "outputs": [
    {
     "name": "stdout",
     "output_type": "stream",
     "text": [
      "Ann is 20 years old.\n",
      "Ben is 30 years old.\n",
      "Cecil is 60 years old.\n"
     ]
    }
   ],
   "source": [
    "# zip\n",
    "\n",
    "names = [\"Ann\", \"Ben\", \"Cecil\"]\n",
    "ages = [20, 30, 60]\n",
    "\n",
    "\n",
    "for name, age in zip(names, ages):\n",
    "    print(f\"{name} is {age} years old.\")"
   ]
  },
  {
   "cell_type": "code",
   "execution_count": 53,
   "id": "5d2d89d3",
   "metadata": {
    "slideshow": {
     "slide_type": "fragment"
    }
   },
   "outputs": [
    {
     "name": "stdout",
     "output_type": "stream",
     "text": [
      "[(1, 'x'), (2, 'y')]\n"
     ]
    }
   ],
   "source": [
    "a = [1, 2, 3]\n",
    "b = [\"x\", \"y\"]\n",
    "\n",
    "print(list(zip(a, b)))\n"
   ]
  },
  {
   "cell_type": "markdown",
   "id": "ee780f65",
   "metadata": {
    "slideshow": {
     "slide_type": "slide"
    }
   },
   "source": [
    "## List comprehension \n",
    "\n",
    "Egy tömör módja listák létrehozásának\n",
    "\n",
    "```python\n",
    "[kifejezés for elem in iterálható if feltétel]\n",
    "\n",
    "```"
   ]
  },
  {
   "cell_type": "code",
   "execution_count": 54,
   "id": "ea161617",
   "metadata": {
    "slideshow": {
     "slide_type": "fragment"
    }
   },
   "outputs": [
    {
     "data": {
      "text/plain": [
       "[('Ann', 20), ('Ben', 30), ('Cecil', 60)]"
      ]
     },
     "execution_count": 54,
     "metadata": {},
     "output_type": "execute_result"
    }
   ],
   "source": [
    "pairs = [(name, age) for name, age in zip(names, ages)]\n",
    "\n",
    "pairs"
   ]
  },
  {
   "cell_type": "code",
   "execution_count": 55,
   "id": "88b08bc1",
   "metadata": {
    "slideshow": {
     "slide_type": "fragment"
    }
   },
   "outputs": [
    {
     "name": "stdout",
     "output_type": "stream",
     "text": [
      "[0, 2, 4, 6, 8]\n"
     ]
    }
   ],
   "source": [
    "evens = [n for n in range(10) if n % 2 == 0]\n",
    "print(evens)\n"
   ]
  },
  {
   "cell_type": "markdown",
   "id": "265de98f",
   "metadata": {
    "slideshow": {
     "slide_type": "slide"
    }
   },
   "source": [
    "### A * operátor\n",
    " A `*` operátor segítségével \"kibonthatunk\" egy listát. A `*l` kifejezés felsorolja az `l` lista elemeit de már nem egy lista objektum. Ez tipikusan akkor hasznos, ha egy függvény sok paramétert vár. \n",
    " \n",
    "**nem áll meg önálló kifejezésként!** Mindig más szintaktikai környezetben kell szerepelnie"
   ]
  },
  {
   "cell_type": "code",
   "execution_count": 56,
   "id": "f916f5d9",
   "metadata": {
    "slideshow": {
     "slide_type": "fragment"
    }
   },
   "outputs": [
    {
     "name": "stdout",
     "output_type": "stream",
     "text": [
      "['alma', 'körte', 'piskóta']\n",
      "alma körte piskóta\n"
     ]
    }
   ],
   "source": [
    "l=[\"alma\",\"körte\",\"piskóta\"]\n",
    "print(l)\n",
    "print(*l)"
   ]
  },
  {
   "cell_type": "code",
   "execution_count": 57,
   "id": "aea6984a",
   "metadata": {
    "slideshow": {
     "slide_type": "subslide"
    }
   },
   "outputs": [
    {
     "ename": "TypeError",
     "evalue": "type.__new__() argument 2 must be tuple, not str",
     "output_type": "error",
     "traceback": [
      "\u001b[0;31m---------------------------------------------------------------------------\u001b[0m",
      "\u001b[0;31mTypeError\u001b[0m                                 Traceback (most recent call last)",
      "Cell \u001b[0;32mIn[57], line 1\u001b[0m\n\u001b[0;32m----> 1\u001b[0m \u001b[38;5;28mprint\u001b[39m(\u001b[38;5;28;43mtype\u001b[39;49m\u001b[43m(\u001b[49m\u001b[38;5;241;43m*\u001b[39;49m\u001b[43ml\u001b[49m\u001b[43m)\u001b[49m)\n",
      "\u001b[0;31mTypeError\u001b[0m: type.__new__() argument 2 must be tuple, not str"
     ]
    }
   ],
   "source": [
    "print(type(*l))"
   ]
  },
  {
   "cell_type": "code",
   "execution_count": 58,
   "id": "60e2c99c",
   "metadata": {
    "slideshow": {
     "slide_type": "subslide"
    }
   },
   "outputs": [
    {
     "name": "stdout",
     "output_type": "stream",
     "text": [
      "('Ann', 'Ben', 'Cecil')\n",
      "(20, 30, 60)\n"
     ]
    }
   ],
   "source": [
    "names, ages = zip(*pairs)\n",
    "\n",
    "print(names)\n",
    "print(ages)"
   ]
  },
  {
   "cell_type": "code",
   "execution_count": 59,
   "id": "b84e01c4",
   "metadata": {
    "slideshow": {
     "slide_type": "slide"
    }
   },
   "outputs": [
    {
     "data": {
      "text/plain": [
       "['I',\n",
       " 'think',\n",
       " 'this',\n",
       " 'is',\n",
       " 'the',\n",
       " 'beginning',\n",
       " 'of',\n",
       " 'a',\n",
       " 'beautiful',\n",
       " 'friendship.']"
      ]
     },
     "execution_count": 59,
     "metadata": {},
     "output_type": "execute_result"
    }
   ],
   "source": [
    "text = \"I think this is the beginning of a beautiful friendship.\"\n",
    "\n",
    "words = text.split()\n",
    "\n",
    "words"
   ]
  },
  {
   "cell_type": "code",
   "execution_count": 60,
   "id": "5d98d9d7",
   "metadata": {
    "slideshow": {
     "slide_type": "fragment"
    }
   },
   "outputs": [
    {
     "data": {
      "text/plain": [
       "'I think this is the beginning of a beautiful friendship.'"
      ]
     },
     "execution_count": 60,
     "metadata": {},
     "output_type": "execute_result"
    }
   ],
   "source": [
    "\" \".join(words)"
   ]
  },
  {
   "cell_type": "code",
   "execution_count": 61,
   "id": "336ecd71",
   "metadata": {
    "slideshow": {
     "slide_type": "subslide"
    }
   },
   "outputs": [
    {
     "name": "stdout",
     "output_type": "stream",
     "text": [
      "I\n",
      "think\n",
      "this\n",
      "is\n",
      "the\n",
      "beginning\n",
      "of\n",
      "a\n",
      "beautiful\n",
      "friendship.\n"
     ]
    }
   ],
   "source": [
    "print(\"\\n\".join(words))"
   ]
  },
  {
   "cell_type": "code",
   "execution_count": 62,
   "id": "91252d11",
   "metadata": {
    "slideshow": {
     "slide_type": "slide"
    }
   },
   "outputs": [
    {
     "name": "stdout",
     "output_type": "stream",
     "text": [
      "['matek']\n",
      "['matek', 'matek']\n",
      "['matek', 'matek', 'matek']\n"
     ]
    }
   ],
   "source": [
    "l=[\"matek\"]\n",
    "def add_matek(k):\n",
    "    k.append(\"matek\")\n",
    "\n",
    "print(l)\n",
    "add_matek(l)\n",
    "print(l)\n",
    "add_matek(l)\n",
    "print(l)"
   ]
  },
  {
   "cell_type": "markdown",
   "id": "94997ed3",
   "metadata": {
    "slideshow": {
     "slide_type": "slide"
    }
   },
   "source": [
    "```python\n",
    "s=\"matek\"\n",
    "def add_matek(k):\n",
    "    k=k+\"matek\"\n",
    "    \n",
    "add_matek(s)\n",
    "print(s)\n",
    "```\n",
    "\n",
    "Mit ír ki? \n",
    "\n",
    "A)\n",
    "\n",
    "matek\n",
    "\n",
    "matek\n",
    "   \n",
    "B) matekmatek\n",
    "\n",
    "C) matek"
   ]
  },
  {
   "cell_type": "code",
   "execution_count": 63,
   "id": "9f3be411",
   "metadata": {
    "slideshow": {
     "slide_type": "subslide"
    }
   },
   "outputs": [
    {
     "name": "stdout",
     "output_type": "stream",
     "text": [
      "matek\n",
      "matek\n",
      "matek\n"
     ]
    }
   ],
   "source": [
    "s=\"matek\"\n",
    "def add_matek(k):\n",
    "    k=k+\"matek\"\n",
    "\n",
    "print(s)\n",
    "add_matek(s)\n",
    "print(s)\n",
    "add_matek(s)\n",
    "print(s)"
   ]
  },
  {
   "cell_type": "markdown",
   "id": "c2179a9a",
   "metadata": {
    "slideshow": {
     "slide_type": "slide"
    }
   },
   "source": [
    "## Indexelés (slicing)"
   ]
  },
  {
   "cell_type": "code",
   "execution_count": 64,
   "id": "847a0839",
   "metadata": {
    "slideshow": {
     "slide_type": "fragment"
    }
   },
   "outputs": [],
   "source": [
    "lst = [1, 2, 3, 5, 3, 8, 2, 2, 0, 4]"
   ]
  },
  {
   "cell_type": "code",
   "execution_count": 65,
   "id": "4fec445d",
   "metadata": {
    "slideshow": {
     "slide_type": "fragment"
    }
   },
   "outputs": [
    {
     "data": {
      "text/plain": [
       "1"
      ]
     },
     "execution_count": 65,
     "metadata": {},
     "output_type": "execute_result"
    }
   ],
   "source": [
    "lst[0]"
   ]
  },
  {
   "cell_type": "code",
   "execution_count": 66,
   "id": "18fb4f46",
   "metadata": {
    "slideshow": {
     "slide_type": "fragment"
    }
   },
   "outputs": [
    {
     "data": {
      "text/plain": [
       "4"
      ]
     },
     "execution_count": 66,
     "metadata": {},
     "output_type": "execute_result"
    }
   ],
   "source": [
    "lst[-1]"
   ]
  },
  {
   "cell_type": "code",
   "execution_count": 67,
   "id": "1a41918c",
   "metadata": {
    "slideshow": {
     "slide_type": "fragment"
    }
   },
   "outputs": [
    {
     "data": {
      "text/plain": [
       "2"
      ]
     },
     "execution_count": 67,
     "metadata": {},
     "output_type": "execute_result"
    }
   ],
   "source": [
    "lst[-3]"
   ]
  },
  {
   "cell_type": "code",
   "execution_count": 68,
   "id": "822ccb70",
   "metadata": {
    "slideshow": {
     "slide_type": "slide"
    }
   },
   "outputs": [
    {
     "data": {
      "text/plain": [
       "[1, 2, 3]"
      ]
     },
     "execution_count": 68,
     "metadata": {},
     "output_type": "execute_result"
    }
   ],
   "source": [
    "lst[:3]"
   ]
  },
  {
   "cell_type": "code",
   "execution_count": 69,
   "id": "fefcd904",
   "metadata": {
    "slideshow": {
     "slide_type": "fragment"
    }
   },
   "outputs": [
    {
     "data": {
      "text/plain": [
       "[1, 2, 3]"
      ]
     },
     "execution_count": 69,
     "metadata": {},
     "output_type": "execute_result"
    }
   ],
   "source": [
    "lst[0:3]"
   ]
  },
  {
   "cell_type": "code",
   "execution_count": 70,
   "id": "26260177",
   "metadata": {
    "slideshow": {
     "slide_type": "fragment"
    }
   },
   "outputs": [
    {
     "data": {
      "text/plain": [
       "[3, 8]"
      ]
     },
     "execution_count": 70,
     "metadata": {},
     "output_type": "execute_result"
    }
   ],
   "source": [
    "lst[4:6]"
   ]
  },
  {
   "cell_type": "code",
   "execution_count": 71,
   "id": "2162d9dd",
   "metadata": {
    "slideshow": {
     "slide_type": "fragment"
    }
   },
   "outputs": [
    {
     "data": {
      "text/plain": [
       "[8, 2, 2, 0, 4]"
      ]
     },
     "execution_count": 71,
     "metadata": {},
     "output_type": "execute_result"
    }
   ],
   "source": [
    "lst[5:]"
   ]
  },
  {
   "cell_type": "code",
   "execution_count": 72,
   "id": "34ad896c",
   "metadata": {
    "slideshow": {
     "slide_type": "fragment"
    }
   },
   "outputs": [
    {
     "data": {
      "text/plain": [
       "[0, 4]"
      ]
     },
     "execution_count": 72,
     "metadata": {},
     "output_type": "execute_result"
    }
   ],
   "source": [
    "lst[-2:]"
   ]
  },
  {
   "cell_type": "code",
   "execution_count": 73,
   "id": "7cb48a44",
   "metadata": {
    "slideshow": {
     "slide_type": "fragment"
    }
   },
   "outputs": [
    {
     "data": {
      "text/plain": [
       "[5, 8, 2]"
      ]
     },
     "execution_count": 73,
     "metadata": {},
     "output_type": "execute_result"
    }
   ],
   "source": [
    "lst[3:8:2]"
   ]
  },
  {
   "cell_type": "code",
   "execution_count": 74,
   "id": "887df4cd",
   "metadata": {
    "slideshow": {
     "slide_type": "slide"
    }
   },
   "outputs": [],
   "source": [
    "lst = [1, 2, 3, 5, 3, 8, 2, 2, 0, 4]"
   ]
  },
  {
   "cell_type": "code",
   "execution_count": 75,
   "id": "d266ab51",
   "metadata": {
    "slideshow": {
     "slide_type": "fragment"
    }
   },
   "outputs": [
    {
     "name": "stdout",
     "output_type": "stream",
     "text": [
      "[1, 2, 3, 5, 3, 8, 2, 2, 4]\n"
     ]
    }
   ],
   "source": [
    "lst.remove(0)\n",
    "\n",
    "print(lst)"
   ]
  },
  {
   "cell_type": "code",
   "execution_count": 76,
   "id": "a7d63413",
   "metadata": {
    "slideshow": {
     "slide_type": "fragment"
    }
   },
   "outputs": [
    {
     "name": "stdout",
     "output_type": "stream",
     "text": [
      "[1, 3, 5, 3, 8, 2, 2, 4]\n"
     ]
    }
   ],
   "source": [
    "lst.remove(2)\n",
    "print(lst)"
   ]
  },
  {
   "cell_type": "code",
   "execution_count": 77,
   "id": "29dad677",
   "metadata": {
    "slideshow": {
     "slide_type": "fragment"
    }
   },
   "outputs": [
    {
     "data": {
      "text/plain": [
       "2"
      ]
     },
     "execution_count": 77,
     "metadata": {},
     "output_type": "execute_result"
    }
   ],
   "source": [
    "lst.index(5)"
   ]
  },
  {
   "cell_type": "code",
   "execution_count": 78,
   "id": "eb8d48cd",
   "metadata": {
    "slideshow": {
     "slide_type": "fragment"
    }
   },
   "outputs": [
    {
     "ename": "ValueError",
     "evalue": "11 is not in list",
     "output_type": "error",
     "traceback": [
      "\u001b[0;31m---------------------------------------------------------------------------\u001b[0m",
      "\u001b[0;31mValueError\u001b[0m                                Traceback (most recent call last)",
      "Cell \u001b[0;32mIn[78], line 1\u001b[0m\n\u001b[0;32m----> 1\u001b[0m \u001b[43mlst\u001b[49m\u001b[38;5;241;43m.\u001b[39;49m\u001b[43mindex\u001b[49m\u001b[43m(\u001b[49m\u001b[38;5;241;43m11\u001b[39;49m\u001b[43m)\u001b[49m\n",
      "\u001b[0;31mValueError\u001b[0m: 11 is not in list"
     ]
    }
   ],
   "source": [
    "lst.index(11)"
   ]
  },
  {
   "cell_type": "code",
   "execution_count": 79,
   "id": "3d54422b",
   "metadata": {
    "slideshow": {
     "slide_type": "slide"
    }
   },
   "outputs": [
    {
     "data": {
      "text/plain": [
       "[1, 3, 5, 3, 8, 2, 2, 4]"
      ]
     },
     "execution_count": 79,
     "metadata": {},
     "output_type": "execute_result"
    }
   ],
   "source": [
    "lst"
   ]
  },
  {
   "cell_type": "code",
   "execution_count": 80,
   "id": "a058922d",
   "metadata": {
    "slideshow": {
     "slide_type": "fragment"
    }
   },
   "outputs": [
    {
     "name": "stdout",
     "output_type": "stream",
     "text": [
      "[1, 3, 5, 3, 8, 2, 2, 4, 100]\n"
     ]
    }
   ],
   "source": [
    "lst.append(100)\n",
    "\n",
    "print(lst)"
   ]
  },
  {
   "cell_type": "code",
   "execution_count": 81,
   "id": "bdb979dc",
   "metadata": {
    "slideshow": {
     "slide_type": "fragment"
    }
   },
   "outputs": [
    {
     "name": "stdout",
     "output_type": "stream",
     "text": [
      "[1, 200, 3, 5, 3, 8, 2, 2, 4, 100]\n"
     ]
    }
   ],
   "source": [
    "lst.insert(1, 200)\n",
    "\n",
    "print(lst)"
   ]
  },
  {
   "cell_type": "code",
   "execution_count": 82,
   "id": "5253a8fe",
   "metadata": {
    "slideshow": {
     "slide_type": "fragment"
    }
   },
   "outputs": [
    {
     "data": {
      "text/plain": [
       "[100, 4, 2, 2, 8, 3, 5, 3, 200, 1]"
      ]
     },
     "execution_count": 82,
     "metadata": {},
     "output_type": "execute_result"
    }
   ],
   "source": [
    "lst[::-1]"
   ]
  },
  {
   "cell_type": "code",
   "execution_count": 83,
   "id": "540e75ec",
   "metadata": {
    "slideshow": {
     "slide_type": "subslide"
    }
   },
   "outputs": [
    {
     "name": "stdout",
     "output_type": "stream",
     "text": [
      "[1, 200, 3, 5, 3, 8, 2, 2, 4, 100]\n",
      "200\n",
      "[1, 3, 5, 3, 8, 2, 2, 4, 100]\n"
     ]
    }
   ],
   "source": [
    "print(lst)\n",
    "\n",
    "\n",
    "removed_item = lst.pop(1)\n",
    "\n",
    "print(removed_item)\n",
    "print(lst)"
   ]
  },
  {
   "cell_type": "markdown",
   "id": "823727bd",
   "metadata": {
    "slideshow": {
     "slide_type": "slide"
    }
   },
   "source": [
    "Listákon végigiterálhatunk (for-ciklussal), úgy, ahogy Pythonban minden collection-ön lehet iterálni. Sőt, saját magunk által definiált új adattípuson is lehet iterálni, ha akarjuk. Pythonban az *iterálható* (iterable) dolgokon lehet iterálni."
   ]
  },
  {
   "cell_type": "code",
   "execution_count": 84,
   "id": "2560678d",
   "metadata": {
    "slideshow": {
     "slide_type": "fragment"
    }
   },
   "outputs": [
    {
     "data": {
      "text/plain": [
       "[1, 3, 11, 11, 1, 13, 17, 5]"
      ]
     },
     "execution_count": 84,
     "metadata": {},
     "output_type": "execute_result"
    }
   ],
   "source": [
    "lst = [0, 1, 0, 3, 4, 11, 12, 11, 0, 0, 0, 2, 1, 13, 17, 5, 0, 0]\n",
    "\n",
    "\n",
    "odd_numbers = []\n",
    "for item in lst:\n",
    "    if item % 2 == 1:\n",
    "        odd_numbers.append(item)\n",
    "        \n",
    "odd_numbers"
   ]
  },
  {
   "cell_type": "code",
   "execution_count": 85,
   "id": "7e34e80a",
   "metadata": {
    "slideshow": {
     "slide_type": "subslide"
    }
   },
   "outputs": [
    {
     "data": {
      "text/plain": [
       "[1, 3, 11, 11, 1, 13, 17, 5]"
      ]
     },
     "execution_count": 85,
     "metadata": {},
     "output_type": "execute_result"
    }
   ],
   "source": [
    "odd_numbers = []\n",
    "for item in lst:\n",
    "    if item % 2 == 1:\n",
    "        odd_numbers.insert(0, item)\n",
    "        \n",
    "odd_numbers[::-1]"
   ]
  },
  {
   "cell_type": "markdown",
   "id": "dfad85f1",
   "metadata": {
    "slideshow": {
     "slide_type": "slide"
    }
   },
   "source": [
    "A listán definiált metódusoknak nem ugyanaz az algoritmikus komplexitásuk. Bizonyosak sokkal műveletigényesebbek, mint mások. A leggyakrabban használt metódus az `.append`, ami átlagosan konstans idő alatt add hozzá egy új elemet egy létező listához, illetve a `.pop(-1)`, ami a legutolsó elemet távolítja el a lista végéről."
   ]
  },
  {
   "cell_type": "code",
   "execution_count": 86,
   "id": "3ff6e298",
   "metadata": {
    "slideshow": {
     "slide_type": "subslide"
    }
   },
   "outputs": [
    {
     "name": "stdout",
     "output_type": "stream",
     "text": [
      "0.04543256759643555\n"
     ]
    }
   ],
   "source": [
    "# Később visszatérünk az importokhoz\n",
    "import time\n",
    "\n",
    "n = 300000\n",
    "\n",
    "t = time.time()\n",
    "xs = []\n",
    "for x in range(n):\n",
    "    xs.append(x)\n",
    "\n",
    "print(time.time() - t)"
   ]
  },
  {
   "cell_type": "code",
   "execution_count": 87,
   "id": "497f8480",
   "metadata": {
    "slideshow": {
     "slide_type": "subslide"
    }
   },
   "outputs": [
    {
     "name": "stdout",
     "output_type": "stream",
     "text": [
      "15.302881479263306\n"
     ]
    }
   ],
   "source": [
    "t = time.time()\n",
    "xs = []\n",
    "for x in range(n):\n",
    "    xs.insert(0, x)\n",
    "\n",
    "print(time.time() - t)"
   ]
  },
  {
   "cell_type": "markdown",
   "id": "916fa29c",
   "metadata": {
    "slideshow": {
     "slide_type": "slide"
    }
   },
   "source": [
    "Mivel a lista mutable, és Pythonban a hozzárendelés (assignment) egy referenciát állít be, ebből az elején sok meglepetés szokott származni."
   ]
  },
  {
   "cell_type": "code",
   "execution_count": 88,
   "id": "7c01d0f9",
   "metadata": {
    "slideshow": {
     "slide_type": "fragment"
    }
   },
   "outputs": [],
   "source": [
    "a = [1, 2, 3]  # `a` az [1, 2, 3] elemeket tartalmazó listára mutat\n",
    "\n",
    "b = a          # `b` ugyanarra az objektumra mutat, mint `a`"
   ]
  },
  {
   "cell_type": "code",
   "execution_count": 89,
   "id": "d20bb037",
   "metadata": {
    "slideshow": {
     "slide_type": "fragment"
    }
   },
   "outputs": [],
   "source": [
    "a.append(100)"
   ]
  },
  {
   "cell_type": "code",
   "execution_count": 90,
   "id": "f2bc62be",
   "metadata": {
    "slideshow": {
     "slide_type": "fragment"
    }
   },
   "outputs": [
    {
     "name": "stdout",
     "output_type": "stream",
     "text": [
      "[1, 2, 3, 100]\n",
      "[1, 2, 3, 100]\n"
     ]
    }
   ],
   "source": [
    "print(a)\n",
    "print(b)"
   ]
  },
  {
   "cell_type": "code",
   "execution_count": 91,
   "id": "33797fb1",
   "metadata": {
    "slideshow": {
     "slide_type": "slide"
    }
   },
   "outputs": [
    {
     "name": "stdout",
     "output_type": "stream",
     "text": [
      "True\n",
      "True\n"
     ]
    }
   ],
   "source": [
    "# A `bool` függvény logikai értéket rendel az \n",
    "#inputjához, amennyiben ez lehetséges\n",
    "\n",
    "lst = [1, 2, 3]\n",
    "print(bool(lst))\n",
    "\n",
    "s = \"abc\"\n",
    "print(bool(s))\n"
   ]
  },
  {
   "cell_type": "code",
   "execution_count": 92,
   "id": "c48de828",
   "metadata": {
    "slideshow": {
     "slide_type": "slide"
    }
   },
   "outputs": [
    {
     "name": "stdout",
     "output_type": "stream",
     "text": [
      "[0, 1, 2, 3, 4]\n",
      "100000\n"
     ]
    }
   ],
   "source": [
    "lst = list(range(100_000))\n",
    "\n",
    "print(lst[:5])\n",
    "\n",
    "print(len(lst))"
   ]
  },
  {
   "cell_type": "code",
   "execution_count": 93,
   "id": "0a5113fe",
   "metadata": {
    "slideshow": {
     "slide_type": "subslide"
    }
   },
   "outputs": [
    {
     "name": "stdout",
     "output_type": "stream",
     "text": [
      "0.06119942665100098\n"
     ]
    }
   ],
   "source": [
    "t = time.time()\n",
    "while lst:\n",
    "    lst.pop(-1)\n",
    "\n",
    "print(time.time() - t)"
   ]
  },
  {
   "cell_type": "code",
   "execution_count": 94,
   "id": "696e58b2",
   "metadata": {
    "slideshow": {
     "slide_type": "subslide"
    }
   },
   "outputs": [
    {
     "name": "stdout",
     "output_type": "stream",
     "text": [
      "1.2168591022491455\n"
     ]
    }
   ],
   "source": [
    "lst = list(range(100_000))\n",
    "\n",
    "t = time.time()\n",
    "while lst:\n",
    "    lst.pop(0)\n",
    "\n",
    "print(time.time() - t)"
   ]
  },
  {
   "cell_type": "code",
   "execution_count": 95,
   "id": "807026da",
   "metadata": {
    "slideshow": {
     "slide_type": "slide"
    }
   },
   "outputs": [
    {
     "name": "stdout",
     "output_type": "stream",
     "text": [
      "10\n"
     ]
    }
   ],
   "source": [
    "def list_sum(xs):\n",
    "    if not xs:\n",
    "        return 0\n",
    "    \n",
    "    return xs[0] + list_sum(xs[1:])\n",
    "\n",
    "\n",
    "s = list_sum([1, 4, 3, 0, 2])\n",
    "print(s)"
   ]
  },
  {
   "cell_type": "code",
   "execution_count": 96,
   "id": "0e83e3e4",
   "metadata": {
    "slideshow": {
     "slide_type": "subslide"
    }
   },
   "outputs": [
    {
     "name": "stdout",
     "output_type": "stream",
     "text": [
      "49999995000000\n",
      "0.43235135078430176\n",
      "49999995000000\n",
      "0.08693122863769531\n"
     ]
    }
   ],
   "source": [
    "def list_sum(xs):\n",
    "    s = 0\n",
    "    for elem in xs:\n",
    "        s += elem\n",
    "    \n",
    "    return s \n",
    "\n",
    "lst = list(range(10000000))\n",
    "\n",
    "\n",
    "t = time.time()\n",
    "print(list_sum(lst))\n",
    "print(time.time() - t)\n",
    "\n",
    "\n",
    "t = time.time()\n",
    "print(sum(lst))\n",
    "print(time.time() - t)"
   ]
  },
  {
   "cell_type": "markdown",
   "id": "cc931746",
   "metadata": {
    "slideshow": {
     "slide_type": "slide"
    }
   },
   "source": [
    "## Rendezés (sorting)"
   ]
  },
  {
   "cell_type": "code",
   "execution_count": 97,
   "id": "b5a37a8d",
   "metadata": {
    "slideshow": {
     "slide_type": "fragment"
    }
   },
   "outputs": [
    {
     "data": {
      "text/plain": [
       "[0, 1, 4, 4, 5, 6]"
      ]
     },
     "execution_count": 97,
     "metadata": {},
     "output_type": "execute_result"
    }
   ],
   "source": [
    "lst = [1, 4, 0, 6, 4, 5]\n",
    "\n",
    "sorted(lst)"
   ]
  },
  {
   "cell_type": "code",
   "execution_count": 98,
   "id": "c36df95a",
   "metadata": {
    "slideshow": {
     "slide_type": "fragment"
    }
   },
   "outputs": [
    {
     "data": {
      "text/plain": [
       "[6, 5, 4, 4, 1, 0]"
      ]
     },
     "execution_count": 98,
     "metadata": {},
     "output_type": "execute_result"
    }
   ],
   "source": [
    "sorted(lst, reverse=True)"
   ]
  },
  {
   "cell_type": "code",
   "execution_count": 99,
   "id": "1342d911",
   "metadata": {
    "slideshow": {
     "slide_type": "slide"
    }
   },
   "outputs": [
    {
     "data": {
      "text/plain": [
       "['Ann', 'Joe', 'Peter', 'Töhötöm']"
      ]
     },
     "execution_count": 99,
     "metadata": {},
     "output_type": "execute_result"
    }
   ],
   "source": [
    "lst = [\"Joe\", \"Peter\", \"Ann\", \"Töhötöm\"]\n",
    "\n",
    "sorted(lst)"
   ]
  },
  {
   "cell_type": "code",
   "execution_count": 100,
   "id": "7a0abc99",
   "metadata": {
    "slideshow": {
     "slide_type": "fragment"
    }
   },
   "outputs": [
    {
     "data": {
      "text/plain": [
       "['Joe', 'Ann', 'Peter', 'Töhötöm']"
      ]
     },
     "execution_count": 100,
     "metadata": {},
     "output_type": "execute_result"
    }
   ],
   "source": [
    "# sorted(lst, key=lambda s: len(s))\n",
    "\n",
    "sorted(lst, key=len)"
   ]
  },
  {
   "cell_type": "code",
   "execution_count": 101,
   "id": "8bb5372e",
   "metadata": {
    "slideshow": {
     "slide_type": "fragment"
    }
   },
   "outputs": [
    {
     "data": {
      "text/plain": [
       "['Töhötöm', 'Peter', 'Joe', 'Ann']"
      ]
     },
     "execution_count": 101,
     "metadata": {},
     "output_type": "execute_result"
    }
   ],
   "source": [
    "sorted(lst, key=len, reverse=True)"
   ]
  }
 ],
 "metadata": {
  "celltoolbar": "Slideshow",
  "kernelspec": {
   "display_name": "Python 3.10",
   "language": "python",
   "name": "python310"
  },
  "language_info": {
   "codemirror_mode": {
    "name": "ipython",
    "version": 3
   },
   "file_extension": ".py",
   "mimetype": "text/x-python",
   "name": "python",
   "nbconvert_exporter": "python",
   "pygments_lexer": "ipython3",
   "version": "3.10.4"
  }
 },
 "nbformat": 4,
 "nbformat_minor": 5
}
