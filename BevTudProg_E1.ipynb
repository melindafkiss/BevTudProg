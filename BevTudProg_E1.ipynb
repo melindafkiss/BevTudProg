{
 "cells": [
  {
   "cell_type": "markdown",
   "id": "31f93e79",
   "metadata": {
    "slideshow": {
     "slide_type": "slide"
    }
   },
   "source": [
    "# Bevezetés a tudományos programozásba\n",
    "\n",
    "\n",
    "## 1. Előadás\n",
    "\n",
    "### 2025. szeptember 9."
   ]
  },
  {
   "cell_type": "markdown",
   "id": "afbe1355",
   "metadata": {
    "slideshow": {
     "slide_type": "slide"
    }
   },
   "source": [
    "## Oktatók\n",
    "\n",
    "Előadás: \n",
    "\n",
    "* Kiss Melinda Flóra: melindafkiss@gmail.com\n",
    "\n",
    "Gyakorlat:\n",
    " - Jung Attila: jungattila@gmail.com\n",
    " - Kolok Csegő: kolok.balazs.csego@gmail.com\n",
    " - Temesvári Ádám: temesvari.adam2004@gmail.com"
   ]
  },
  {
   "cell_type": "markdown",
   "id": "03c6b079",
   "metadata": {
    "slideshow": {
     "slide_type": "slide"
    }
   },
   "source": [
    "## Anyagok\n",
    "\n",
    "\n",
    "#### Korábbi évek előadásai\n",
    "\n",
    "- [damasdigabor.web.elte.hu/teaching](https://damasdigabor.web.elte.hu/teaching)\n",
    "- Kurics Tamás anyagai\n",
    "\n",
    "#### Online anyagok\n",
    "\n",
    "- [Hogyan gondolkozz úgy, mint egy informatikus: tanulás Python3 segítségével](https://mtmi.unideb.hu/course/view.php?id=9)\n",
    "- Allen B. Downey: Think Python, O'Reilly\n",
    "- Wes McKinney: Python for Data Analysis, O’Reilly\n",
    "- [SciPy tananyag](https://scipy-lectures.org/index.html)\n",
    "- [A Python nyelv hivatalos honlapja](https://www.python.org/)\n",
    "\n",
    "#### Tutorialok\n",
    "\n",
    "- [Runestone Academy](https://runestone.academy/runestone/books/published/thinkcspy/index.html)\n",
    "- [RealPython](https://realpython.com/)"
   ]
  },
  {
   "cell_type": "markdown",
   "id": "9f9edcd1",
   "metadata": {
    "slideshow": {
     "slide_type": "slide"
    }
   },
   "source": [
    "### Tantárgy célja\n",
    "\n",
    "- **Matematikusok számára hasznos programozási tudás átadása**\n",
    "- Programozás általános folyamatának gyakorlása\n",
    "- Egy programozási nyelv (Python) alapjainak elsajátítása\n",
    "- Matematikusoknak hasznos programozási könyvtárak megismerése\n",
    "- Matematikai algoritmusok implementálása\n",
    "\n",
    "- Alapozás későbbi órákhoz(Matematikai algoritmusok és felfedezések II, Algoritmusok tervezése és elemzése, Adatbányászat, Deep learning)\n",
    "\n",
    "Hello World!\n"
   ]
  },
  {
   "cell_type": "code",
   "execution_count": 1,
   "id": "e771f3af",
   "metadata": {},
   "outputs": [
    {
     "data": {
      "text/plain": [
       "4"
      ]
     },
     "execution_count": 1,
     "metadata": {},
     "output_type": "execute_result"
    }
   ],
   "source": [
    "2 + 2"
   ]
  },
  {
   "cell_type": "markdown",
   "id": "c2870f18",
   "metadata": {
    "slideshow": {
     "slide_type": "slide"
    }
   },
   "source": [
    "## Követelmények\n",
    "\n",
    "Előadás jegye = gyakorlat jegye"
   ]
  },
  {
   "cell_type": "markdown",
   "id": "f24e0f78",
   "metadata": {
    "slideshow": {
     "slide_type": "slide"
    }
   },
   "source": [
    "## Miért Python?\n",
    "\n",
    "Melyek manapság a legnépszerűbb programozási nyelvek?\n",
    "\n",
    "* [TIOBE index](https://www.tiobe.com/tiobe-index/) - The ratings are based on the number of skilled engineers world-wide, courses and third party vendors\n",
    "\n",
    "<center>\n",
    "<img src=\"PythonPopularity.png\" width=\"1200\" height=\"800\"> \n",
    "</center>"
   ]
  },
  {
   "cell_type": "markdown",
   "id": "d904c677",
   "metadata": {
    "slideshow": {
     "slide_type": "subslide"
    }
   },
   "source": [
    "* [PYPL PopularitY of Programming Language](https://pypl.github.io/PYPL.html) - is created by analyzing how often language tutorials are searched on Google.\n",
    "\n",
    "<center>\n",
    "<img src=\"PythonPopularity_2.png\" width=\"800\"> \n",
    "</center>"
   ]
  },
  {
   "cell_type": "markdown",
   "id": "9dbbf382",
   "metadata": {
    "slideshow": {
     "slide_type": "subslide"
    }
   },
   "source": [
    "## Milyen nyelvet érdemes tanulni?\n",
    "\n",
    "Az attól függ, hogy milyen célra kell.\n",
    "\n",
    "* Az egyetemi világban, oktatásban és kutatásban általában valamilyen speciális, kutatók és oktatók igényeire szabott nyelvet használnak, amivel az adott problémát gyorsan és könnyen meg lehet oldani.\n",
    "* Az iparban más szempontok is érvényre juthatnak\n",
    "    * legyen gyors a kód, pl. játékfejlesztés, nagyfrekvenciájú tőzsdei kereskedés\n",
    "    * legyen biztonságos, hibáktól mentes a kód, pl. pénzügy, blokklánc\n",
    "    * legyen könnyen karbantartható\n",
    "    * könnyű legyen embert találni a munkaerőpiacon, aki ért hozzá\n",
    "    * a lehető legszélesebb körben legyen alkalmazható\n",
    "    * már 30 éve megírták, maradjon így, pl. banki szoftverek egy része, meteorológiai modellezés\n",
    "* Minden szektornak van rá jellemző nyelve(i)   "
   ]
  },
  {
   "cell_type": "markdown",
   "id": "e2ae256b",
   "metadata": {
    "slideshow": {
     "slide_type": "subslide"
    }
   },
   "source": [
    "#### Az egyetemi, kutatói világban használatos nyelvek:\n",
    "    \n",
    "* MATLAB (numerikus számítások, mérnöki modellezés)\n",
    "* SPSS, SAS, stb. (statiszikai szoftverek)\n",
    "* Wolfram Mathematica, Maple, stb (mérnöki modellezés, szimbolikus számítások)\n",
    "\n",
    "\n",
    "* R (statisztika, adatelemzés, statisztikai modellezés)\n",
    "* Julia (numerikus számítások, általános nagyteljesítményű tudományos programozásra használatos nyelv)\n",
    "* Python (numerikus számítások, gépi tanulás, deep learning, általános célú programozási nyelv)\n",
    "* C++ (fizikai folyamatok modellezése, általános célú nagyteljesítményű programozási nyelv)"
   ]
  },
  {
   "cell_type": "markdown",
   "id": "802989a3",
   "metadata": {
    "slideshow": {
     "slide_type": "slide"
    }
   },
   "source": [
    "# A Python programozási nyelv"
   ]
  },
  {
   "cell_type": "markdown",
   "id": "348eb64f",
   "metadata": {
    "slideshow": {
     "slide_type": "subslide"
    }
   },
   "source": [
    "A Python egy dinamikusan típusos, általános célú, magasszintű programozási nyelv. \n",
    "\n",
    "Egy Python forrásfájl kiterjesztése `.py`. A Python nyelv referencia-implementációja a CPython, ami bytecode-ra (`.pyc`) fordítja a forráskódot és azt interpretálja a Python Virtual Machine-en (tehát a Python interpretált *és* fordított nyelv is egyben).\n",
    "\n",
    "\n",
    "![](python-code-compiler-machine-code.png) "
   ]
  },
  {
   "cell_type": "markdown",
   "id": "38177f29",
   "metadata": {
    "slideshow": {
     "slide_type": "subslide"
    }
   },
   "source": [
    "Főbb jellemzői:\n",
    "* A nyelv filozófiája az olvashatóságot és a könnyű használhatóságot helyezi előtérbe a futási sebességgel szemben\n",
    "* dinamikusan és erősen típusos\n",
    "* a forráskód fordítás nélkül futtatható (interpretálható)\n",
    "* a típushelyességet futásidő (runtime) alatt ellenőrzi\n",
    "* *garbage-collected*, azaz automatikus memóriakezeléssel rendelkezik\n",
    "* *batteries included*, azaz átfogó standard library-vel rendelkezik, külön csomagok telepítése nélkül is számos probléma megoldható"
   ]
  },
  {
   "cell_type": "code",
   "execution_count": 2,
   "id": "29311e9d",
   "metadata": {
    "slideshow": {
     "slide_type": "subslide"
    }
   },
   "outputs": [
    {
     "name": "stdout",
     "output_type": "stream",
     "text": [
      "The Zen of Python, by Tim Peters\n",
      "\n",
      "Beautiful is better than ugly.\n",
      "Explicit is better than implicit.\n",
      "Simple is better than complex.\n",
      "Complex is better than complicated.\n",
      "Flat is better than nested.\n",
      "Sparse is better than dense.\n",
      "Readability counts.\n",
      "Special cases aren't special enough to break the rules.\n",
      "Although practicality beats purity.\n",
      "Errors should never pass silently.\n",
      "Unless explicitly silenced.\n",
      "In the face of ambiguity, refuse the temptation to guess.\n",
      "There should be one-- and preferably only one --obvious way to do it.\n",
      "Although that way may not be obvious at first unless you're Dutch.\n",
      "Now is better than never.\n",
      "Although never is often better than *right* now.\n",
      "If the implementation is hard to explain, it's a bad idea.\n",
      "If the implementation is easy to explain, it may be a good idea.\n",
      "Namespaces are one honking great idea -- let's do more of those!\n"
     ]
    }
   ],
   "source": [
    "import this"
   ]
  },
  {
   "cell_type": "markdown",
   "id": "d4c4d965",
   "metadata": {
    "slideshow": {
     "slide_type": "subslide"
    }
   },
   "source": [
    "## A Python rövid története\n",
    "\n",
    "A nyelvet Guido van Rossum (ex-[BDFL](https://en.wikipedia.org/wiki/Benevolent_dictator_for_life)) tervezte a Centrum Wiskunde & Informatica (CWI) intézetben a 80-as évek végén, melyet az ABC nyelv inspirált.\n",
    "\n",
    "* Először 1991 februárjában jelent meg (0.9.0)\n",
    "* Python 2.0: 2000 október\n",
    "* Python 3.0: 2008 december\n",
    "* Python 2.7.18 EOL: 2020 december\n",
    "* Python 3.5 és korábbi verziók sem támogatottak már a Python 2.7 támogatásának megszűnésével\n",
    "\n",
    "Ugyan már 30 éve van jelen, sok nála jóval régebbi nyelv van még használatban:\n",
    "* 1957: Fortran\n",
    "* 1958: Lisp\n",
    "* 1959: COBOL"
   ]
  },
  {
   "cell_type": "markdown",
   "id": "d2c5c5a7",
   "metadata": {
    "slideshow": {
     "slide_type": "slide"
    }
   },
   "source": [
    "## Hogy írunk Python kódot és hogyan futtatjuk?\n",
    "\n",
    "Kell egy szövegszerkesztő, amiben a kódot írjuk.\n",
    "* **text editors** - hagyományos szövegszerkesztők, különböző operációs rendszerekre\n",
    "    * Windows: Notepad, Notepad++ (ez utóbbi már inkább kódszerkesztőnek számít)\n",
    "    * Linux: emacs, nano, vi/vim, vagy disztribúciófüggő (gedit, mousepad, etc.)\n",
    "    \n",
    "* **source code editors** - kódszerkesztők\n",
    "    * VS Code, Sublime Text, Atom, etc.\n",
    "\n",
    "* **IDE** (Integrated development environment) - integrált fejlesztői környezetek\n",
    "    * PyCharm, IntelliJ IDEA (general IDE with Python plugin), Spyder (scientific Python IDE)"
   ]
  },
  {
   "cell_type": "markdown",
   "id": "4b762390",
   "metadata": {
    "slideshow": {
     "slide_type": "subslide"
    }
   },
   "source": [
    "Kell egy Python interpreter a gépünkre, amivel a kódot futtatjuk.\n",
    "\n",
    "Ha még nincs a gépünkre telepítve, akkor\n",
    "* Töltsük le a telepítőt a [hivatalos Python](https://www.python.org/) oldalról.\n",
    "* Vannak előre csomagolt disztribúciók, mint például az [Anaconda](https://www.anaconda.com/products/individual) melyekkel nem csak a Python, hanem sok egyéb, tudományos programozásban hasznos csomag is a gépünkre kerül.\n",
    "\n",
    "A Python verziók között vannak különségek, az újabb verziókban újabb feature-ök szerepelhetnek, melyek nincsenek az előzőekben, tehát pl. egy Python 3.8-ban írt kód nem biztos, hogy lefut egy Python 3.7-es interpreterrel. Ugyanez igaz a különböző csomagokra is. Ugyanazon csomag (package) különböző verziói egymással nem feltétlenül kompatibilis, azaz az egyikben írt kód nem feltétlenül fut le, ha a gépünkön egy másik verzió van jelen.\n",
    "\n",
    "Ez az előadás **Python 3.10**-et fog használni."
   ]
  },
  {
   "cell_type": "markdown",
   "id": "b58e71cb",
   "metadata": {
    "slideshow": {
     "slide_type": "slide"
    }
   },
   "source": [
    "## A Python interactive shell (REPL)\n",
    "\n",
    "**R**ead **E**valuate **P**rint **L**oop \n",
    "\n",
    "Nem csak a Python-nak van REPL-je, hanem sok más nyelvnek is, olyanoknak is, melyeket le kell fordítani. A REPL indítása egyszerűen a `python` (vagy `python3`) parancs kiadásával indítható, de egy szebb, jobb, színesebb REPL-t kapunk, ha telepítettük az `ipython` (interactive python) csomagot.\n",
    "\n",
    "Az `ipython`-ra épült korábban az `IPython notebook` nevű, web-es alapú, böngészőben futó alkalmazás. Ezt 2014-ben váltotta a `Jupyter` project, ami nyelv-agnosztikus webes interaktív platform. A gépen futó Python kernelhez tartozó interaktív shell a böngészőben fut. A Jupyterhez más nyelvekhez tartozó ún. kerneleket lehet installálni és interaktív módon lehet benne kódot írni, akár prezentációt is készíteni.\n"
   ]
  },
  {
   "cell_type": "markdown",
   "id": "5983fbe9",
   "metadata": {
    "slideshow": {
     "slide_type": "slide"
    }
   },
   "source": [
    "# Jupyter\n",
    "\n",
    "\n",
    "- Jupyter - Egy web applikáció melyben olyan dokumentumokat hozhatunk létre, melyek élő kódot, képleteket, grafikonokat tartalmaznak. \n",
    "- A Jupyter fájlok kiterjesztése `.ipynb`\n",
    "- de konvertálható sok féle formátumba (HTML, PDF, LateX ...)\n",
    "- A tartalom cellákba van rendezve. \n",
    " - Kód cella\n",
    " - Markdown cella\n"
   ]
  },
  {
   "cell_type": "markdown",
   "id": "a56cc50b",
   "metadata": {
    "slideshow": {
     "slide_type": "subslide"
    }
   },
   "source": [
    "### Google colab\n",
    "\n",
    "https://colab.research.google.com/\n",
    "\n",
    "* A Jupyter Notebook felhőalapú, ingyenes változata\n",
    "* A Google szerverein fut\n",
    "* Ingyenes CPU, GPU vagy TPU futtatási környezet (korlátozott, kvótákhoz kötött).\n",
    "* Nem igényel telepítést\n",
    "* Előre telepített könyvtárak (TensorFlow, PyTorch, NumPy stb.)"
   ]
  },
  {
   "cell_type": "markdown",
   "id": "b8a6911f",
   "metadata": {
    "slideshow": {
     "slide_type": "subslide"
    }
   },
   "source": [
    "\n",
    "# Jupyter használata\n",
    "\n",
    "## Parancs mód és szerkesztési mód\n",
    "\n",
    "1. Parancs mód: utasítások végrehajtása a cellákon, a tartalmuk megváltoztatása nélkül. \n",
    "  - A kijelölt cellák kékek\n",
    "2. Szerkesztési mód: Egy adott cella tartalmának módosítása. \n",
    "  - A kijelölt cella zöld színű"
   ]
  },
  {
   "cell_type": "markdown",
   "id": "f71691d1",
   "metadata": {
    "slideshow": {
     "slide_type": "subslide"
    }
   },
   "source": [
    "### Váltás a módok között\n",
    "\n",
    "1. Esc: Szerkesztési -> Parancs\n",
    "2. Enter vagy dupla klikk: Parancs -> Szerkesztési"
   ]
  },
  {
   "cell_type": "markdown",
   "id": "2a88cbb1",
   "metadata": {
    "slideshow": {
     "slide_type": "subslide"
    }
   },
   "source": [
    "## Cella futtatása szerkesztési módban\n",
    "\n",
    "1. Ctrl + Enter: cella futtatása\n",
    "2. Shift + Enter: cella futtatása és ugrás a következőre\n",
    "3. Alt + Enter: cella futtatása és új cella beszúrása"
   ]
  },
  {
   "cell_type": "markdown",
   "id": "fb589faf",
   "metadata": {
    "slideshow": {
     "slide_type": "slide"
    }
   },
   "source": [
    "### Hasznos shortcutok parancs módban\n",
    "- enter: cella szerkesztése\n",
    "- a/b  : cella beszúrása a kijelölt cella alá/fölé (az above/below alapján)\n",
    "- m/y  : cella típusának váltása: Markdown/Kód\n",
    "- dd   : cella törlése\n",
    "- z    : cella törlés visszavonása\n",
    "- ctrl + enter: cella futtatása\n",
    "- shift + enter: cella futtatása, ugrás következő cellára\n",
    "- alt + enter: cella futtatása, új cella beszúrása"
   ]
  },
  {
   "cell_type": "markdown",
   "id": "ced67158",
   "metadata": {
    "slideshow": {
     "slide_type": "slide"
    }
   },
   "source": [
    "#### Markdown cella\n",
    "\n",
    "A Jupyter notebook nem csak kód írására és futtatására alkalmas, hanem dokumentációra, előadások készítésre, egyszerűbb, $\\LaTeX$-ben írt képletek írására, azaz egy olyan környezetről van szó, ahol a kód, az ábrák, eredmények és az őket kiegészítő kísérő szöveg egy egységet képez.\n",
    "\n",
    "**Ez itt félkövér**\n",
    "\n",
    "*Ez meg dőlt*\n",
    "\n",
    "| Ez  | meg itt |\n",
    "| --- | ---  |\n",
    "| egy | táblázat |\n",
    "| egy | táblázat |\n",
    "\n",
    "\n",
    "\n",
    "$$\n",
    "\\sum_{n=1}^{\\infty}\\frac{1}{n^2} = \\frac{\\pi^2}{6}.\n",
    "$$\n",
    "\n"
   ]
  },
  {
   "cell_type": "markdown",
   "id": "5fd9c075",
   "metadata": {
    "slideshow": {
     "slide_type": "slide"
    }
   },
   "source": [
    "## Hello, world!"
   ]
  },
  {
   "cell_type": "code",
   "execution_count": 2,
   "id": "93cf194d",
   "metadata": {
    "slideshow": {
     "slide_type": "fragment"
    }
   },
   "outputs": [
    {
     "name": "stdout",
     "output_type": "stream",
     "text": [
      "Hello, world!\n"
     ]
    }
   ],
   "source": [
    "print(\"Hello, world!\")"
   ]
  },
  {
   "cell_type": "code",
   "execution_count": 5,
   "id": "675b7336",
   "metadata": {
    "slideshow": {
     "slide_type": "fragment"
    }
   },
   "outputs": [
    {
     "name": "stdout",
     "output_type": "stream",
     "text": [
      "Sziasztok!\n"
     ]
    },
    {
     "data": {
      "text/plain": [
       "'Hello, world!'"
      ]
     },
     "execution_count": 5,
     "metadata": {},
     "output_type": "execute_result"
    }
   ],
   "source": [
    "print(\"Sziasztok!\")\n",
    "\n",
    "\"Hello, world!\""
   ]
  },
  {
   "cell_type": "markdown",
   "id": "7b51d95d",
   "metadata": {
    "slideshow": {
     "slide_type": "slide"
    }
   },
   "source": [
    "## Aritmetikai műveletek"
   ]
  },
  {
   "cell_type": "code",
   "execution_count": 6,
   "id": "a31b36f8",
   "metadata": {
    "slideshow": {
     "slide_type": "fragment"
    }
   },
   "outputs": [
    {
     "data": {
      "text/plain": [
       "3"
      ]
     },
     "execution_count": 6,
     "metadata": {},
     "output_type": "execute_result"
    }
   ],
   "source": [
    "1 + 2"
   ]
  },
  {
   "cell_type": "code",
   "execution_count": 7,
   "id": "888cf3ac",
   "metadata": {
    "slideshow": {
     "slide_type": "fragment"
    }
   },
   "outputs": [
    {
     "data": {
      "text/plain": [
       "3.0"
      ]
     },
     "execution_count": 7,
     "metadata": {},
     "output_type": "execute_result"
    }
   ],
   "source": [
    "1.0 + 2"
   ]
  },
  {
   "cell_type": "code",
   "execution_count": 8,
   "id": "0bdb4033",
   "metadata": {
    "slideshow": {
     "slide_type": "fragment"
    }
   },
   "outputs": [
    {
     "data": {
      "text/plain": [
       "4.5"
      ]
     },
     "execution_count": 8,
     "metadata": {},
     "output_type": "execute_result"
    }
   ],
   "source": [
    "# A kommenteket tartalmazó sor #-kal kezdődik\n",
    "# Szorzás\n",
    "\n",
    "1.5 * 3"
   ]
  },
  {
   "cell_type": "code",
   "execution_count": 9,
   "id": "764bd440",
   "metadata": {
    "slideshow": {
     "slide_type": "fragment"
    }
   },
   "outputs": [
    {
     "data": {
      "text/plain": [
       "13.5"
      ]
     },
     "execution_count": 9,
     "metadata": {},
     "output_type": "execute_result"
    }
   ],
   "source": [
    "# az _ (underscore) az interaktív utolsó művelet eredményét tárolja\n",
    "\n",
    "_ * 3"
   ]
  },
  {
   "cell_type": "code",
   "execution_count": 10,
   "id": "e18ad459",
   "metadata": {
    "slideshow": {
     "slide_type": "slide"
    }
   },
   "outputs": [
    {
     "data": {
      "text/plain": [
       "2.75"
      ]
     },
     "execution_count": 10,
     "metadata": {},
     "output_type": "execute_result"
    }
   ],
   "source": [
    "11 / 4\n"
   ]
  },
  {
   "cell_type": "code",
   "execution_count": 11,
   "id": "4b576249",
   "metadata": {
    "slideshow": {
     "slide_type": "fragment"
    }
   },
   "outputs": [
    {
     "data": {
      "text/plain": [
       "2"
      ]
     },
     "execution_count": 11,
     "metadata": {},
     "output_type": "execute_result"
    }
   ],
   "source": [
    "11 // 4"
   ]
  },
  {
   "cell_type": "code",
   "execution_count": 12,
   "id": "9632a01d",
   "metadata": {
    "slideshow": {
     "slide_type": "fragment"
    }
   },
   "outputs": [
    {
     "data": {
      "text/plain": [
       "3"
      ]
     },
     "execution_count": 12,
     "metadata": {},
     "output_type": "execute_result"
    }
   ],
   "source": [
    "11 % 4"
   ]
  },
  {
   "cell_type": "code",
   "execution_count": 13,
   "id": "e3171b0f",
   "metadata": {
    "slideshow": {
     "slide_type": "fragment"
    }
   },
   "outputs": [
    {
     "data": {
      "text/plain": [
       "(2, 3)"
      ]
     },
     "execution_count": 13,
     "metadata": {},
     "output_type": "execute_result"
    }
   ],
   "source": [
    "divmod(11, 4)"
   ]
  },
  {
   "cell_type": "code",
   "execution_count": 14,
   "id": "20c01550",
   "metadata": {
    "slideshow": {
     "slide_type": "slide"
    }
   },
   "outputs": [
    {
     "data": {
      "text/plain": [
       "8"
      ]
     },
     "execution_count": 14,
     "metadata": {},
     "output_type": "execute_result"
    }
   ],
   "source": [
    "2 ** 3"
   ]
  },
  {
   "cell_type": "code",
   "execution_count": 15,
   "id": "709bddd0",
   "metadata": {
    "slideshow": {
     "slide_type": "fragment"
    }
   },
   "outputs": [
    {
     "data": {
      "text/plain": [
       "21.41604871118853"
      ]
     },
     "execution_count": 15,
     "metadata": {},
     "output_type": "execute_result"
    }
   ],
   "source": [
    "2.4 ** 3.5"
   ]
  },
  {
   "cell_type": "code",
   "execution_count": 16,
   "id": "0b427df7",
   "metadata": {
    "slideshow": {
     "slide_type": "fragment"
    }
   },
   "outputs": [
    {
     "data": {
      "text/plain": [
       "5.0"
      ]
     },
     "execution_count": 16,
     "metadata": {},
     "output_type": "execute_result"
    }
   ],
   "source": [
    "1 + 2 ** 3 / 2"
   ]
  },
  {
   "cell_type": "markdown",
   "id": "d713ae71",
   "metadata": {
    "slideshow": {
     "slide_type": "slide"
    }
   },
   "source": [
    "## Változók"
   ]
  },
  {
   "cell_type": "markdown",
   "id": "8d6006f9",
   "metadata": {
    "slideshow": {
     "slide_type": "fragment"
    }
   },
   "source": [
    "Pythonban a változó és az ahhoz kapcsolódó memóriafoglalás jelentősen eltér pl. a C-ben megszokottól."
   ]
  },
  {
   "cell_type": "markdown",
   "id": "ddc2adca",
   "metadata": {
    "slideshow": {
     "slide_type": "fragment"
    }
   },
   "source": [
    "```c\n",
    "int a;\n",
    "\n",
    "a = 1;\n",
    "```\n",
    "\n",
    "A memóriában le lesz foglalva egy $4$ byte-os egész tárolására hely, oda belekerül az érték és az `a` név ezt a memóraterületet jelöli."
   ]
  },
  {
   "cell_type": "markdown",
   "id": "391564a9",
   "metadata": {
    "slideshow": {
     "slide_type": "fragment"
    }
   },
   "source": [
    "```c\n",
    "int a;\n",
    "int b;\n",
    "\n",
    "a = 1;\n",
    "b = a;\n",
    "\n",
    "a = 100;\n",
    "```"
   ]
  },
  {
   "cell_type": "markdown",
   "id": "4f3e4f90",
   "metadata": {
    "slideshow": {
     "slide_type": "subslide"
    }
   },
   "source": [
    "Pythonban \n",
    "\n",
    "* az `a = 1` értékadással létrejön a memóriában egy Python objektum, mely az $1$ értéket tartalmazza (és még más dolgokat is, pl. metódusokat)\n",
    "* A Python változók valójában Python objektumokra való hivatkozások (referenciák)\n",
    "* Egy ilyen változó nem csak az értékét tudja megváltoztatni, hanem a típusát is."
   ]
  },
  {
   "cell_type": "code",
   "execution_count": 22,
   "id": "6f3c18c4",
   "metadata": {
    "slideshow": {
     "slide_type": "fragment"
    }
   },
   "outputs": [
    {
     "name": "stdout",
     "output_type": "stream",
     "text": [
      "100\n",
      "Hello\n"
     ]
    }
   ],
   "source": [
    "a = 1\n",
    "\n",
    "\n",
    "a = 100\n",
    "print(a)\n",
    "\n",
    "a = \"Hello\"\n",
    "\n",
    "print(a)"
   ]
  },
  {
   "cell_type": "code",
   "execution_count": 23,
   "id": "183a8fad",
   "metadata": {
    "slideshow": {
     "slide_type": "subslide"
    }
   },
   "outputs": [
    {
     "name": "stdout",
     "output_type": "stream",
     "text": [
      "94589835281184\n",
      "94589835281184\n"
     ]
    }
   ],
   "source": [
    "a = 1\n",
    "\n",
    "b = a\n",
    "\n",
    "print(id(a))\n",
    "print(id(b))"
   ]
  },
  {
   "cell_type": "markdown",
   "id": "66ed89eb",
   "metadata": {
    "slideshow": {
     "slide_type": "fragment"
    }
   },
   "source": [
    "Mivel az `id` függvény ugyanazt adja, ezért $a$ és $b$ ugyanarra a Python objektumra hivatkozik. Az `is` operátor azt teszteli, hogy a két változó ugyanarra az objektumra referencia."
   ]
  },
  {
   "cell_type": "code",
   "execution_count": 24,
   "id": "5ad0d5e0",
   "metadata": {
    "slideshow": {
     "slide_type": "fragment"
    }
   },
   "outputs": [
    {
     "data": {
      "text/plain": [
       "True"
      ]
     },
     "execution_count": 24,
     "metadata": {},
     "output_type": "execute_result"
    }
   ],
   "source": [
    "a is b"
   ]
  },
  {
   "cell_type": "code",
   "execution_count": 25,
   "id": "629a1115",
   "metadata": {
    "slideshow": {
     "slide_type": "fragment"
    }
   },
   "outputs": [
    {
     "data": {
      "text/plain": [
       "True"
      ]
     },
     "execution_count": 25,
     "metadata": {},
     "output_type": "execute_result"
    }
   ],
   "source": [
    "# A dupla egyenlőségjel azt teszteli, hogy a két változó által referált objektumok egyenlőek-e. \n",
    "# Természetesen ha ugyanarra az objektumra referencia két változó, azon nyilván egyenlők.\n",
    "\n",
    "a == b"
   ]
  },
  {
   "cell_type": "markdown",
   "id": "15cbc174",
   "metadata": {
    "slideshow": {
     "slide_type": "slide"
    }
   },
   "source": [
    "### A Python változók nevezéktana.\n",
    "\n",
    "Bármilyen Python azonosító bármilyen Unicode kis- és nagybetűket tartalmazhat, lehet benne underscore és számjegyek (melyek azonban nem állhatnak az első helyen)."
   ]
  },
  {
   "cell_type": "code",
   "execution_count": 22,
   "id": "f64f3f3e",
   "metadata": {
    "slideshow": {
     "slide_type": "fragment"
    }
   },
   "outputs": [],
   "source": [
    "α = \"alpha\"\n",
    "\n",
    "árvíztűrőTükörfúrógép = 100\n",
    "\n",
    "_1234 = 1234"
   ]
  },
  {
   "cell_type": "markdown",
   "id": "a7cc9446",
   "metadata": {
    "slideshow": {
     "slide_type": "fragment"
    }
   },
   "source": [
    "Azonban, **inkább mégis, ha csak tehetjük**, változónévben, azonosítóban, sőt, kommentben is\n",
    "* használjuk a standard ASCII karaktereket (az angol ABC betűit)\n",
    "* a változónevek, és más egyéb azonosítók értelmes angol szavak legyenek (kivéve egyszerű, egy-két karakterből álló azonosítók esetén)\n",
    "* kövesse a `snake_case` névírási konvenciót"
   ]
  },
  {
   "cell_type": "code",
   "execution_count": 26,
   "id": "e5bf7795",
   "metadata": {
    "slideshow": {
     "slide_type": "fragment"
    }
   },
   "outputs": [],
   "source": [
    "the_meaning_of_life = 42"
   ]
  },
  {
   "cell_type": "code",
   "execution_count": 29,
   "id": "d6e72bfd",
   "metadata": {
    "slideshow": {
     "slide_type": "slide"
    }
   },
   "outputs": [
    {
     "name": "stdout",
     "output_type": "stream",
     "text": [
      "10101\n",
      "21\n",
      "21\n"
     ]
    }
   ],
   "source": [
    "s = \"10101\"\n",
    "\n",
    "a = int(s)\n",
    "\n",
    "type(a)\n",
    "\n",
    "\n",
    "b = int(s, 2)\n",
    "\n",
    "c = int(s, base=2)\n",
    "\n",
    "print(a)\n",
    "print(b)\n",
    "print(c)"
   ]
  }
 ],
 "metadata": {
  "celltoolbar": "Slideshow",
  "kernelspec": {
   "display_name": "Python 3",
   "language": "python",
   "name": "python3"
  },
  "language_info": {
   "codemirror_mode": {
    "name": "ipython",
    "version": 3
   },
   "file_extension": ".py",
   "mimetype": "text/x-python",
   "name": "python",
   "nbconvert_exporter": "python",
   "pygments_lexer": "ipython3",
   "version": "3.7.4"
  }
 },
 "nbformat": 4,
 "nbformat_minor": 5
}
